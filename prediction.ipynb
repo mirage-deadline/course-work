{
 "cells": [
  {
   "cell_type": "code",
   "execution_count": 47,
   "id": "fbfe15e4-b7dd-46a2-95e4-8017490b8898",
   "metadata": {},
   "outputs": [],
   "source": [
    "import pandas as pd\n",
    "import numpy as np\n",
    "import matplotlib.pyplot as plt\n",
    "import seaborn as sns\n",
    "import sklearn\n",
    "import warnings\n",
    "from sklearn.preprocessing import LabelEncoder\n",
    "from sklearn.model_selection import train_test_split\n",
    "from sklearn.metrics import log_loss, accuracy_score, classification_report\n",
    "from sklearn.feature_extraction.text import TfidfVectorizer\n",
    "from sklearn.linear_model import LogisticRegression\n",
    "from sklearn.svm import SVC"
   ]
  },
  {
   "cell_type": "code",
   "execution_count": 48,
   "id": "dd4f8b57-b597-4e7f-a657-6e65b553320d",
   "metadata": {},
   "outputs": [],
   "source": [
    "warnings.filterwarnings('ignore')"
   ]
  },
  {
   "cell_type": "markdown",
   "id": "bf57e494-0eba-44c0-a13b-36006524448f",
   "metadata": {},
   "source": [
    "# Я использую латинский алфавит"
   ]
  },
  {
   "cell_type": "markdown",
   "id": "91973601-0f5f-4542-b274-13eb6eca07b3",
   "metadata": {},
   "source": [
    "### Использовать так же будем стопы при разметке данных нашей моделью"
   ]
  },
  {
   "cell_type": "code",
   "execution_count": 49,
   "id": "17d90cc8-8c7d-4302-95f7-935c571c6a5b",
   "metadata": {},
   "outputs": [
    {
     "name": "stderr",
     "output_type": "stream",
     "text": [
      "[nltk_data] Downloading package stopwords to\n",
      "[nltk_data]     C:\\Users\\mailw\\AppData\\Roaming\\nltk_data...\n",
      "[nltk_data]   Package stopwords is already up-to-date!\n"
     ]
    },
    {
     "data": {
      "text/plain": [
       "True"
      ]
     },
     "execution_count": 49,
     "metadata": {},
     "output_type": "execute_result"
    }
   ],
   "source": [
    "import nltk\n",
    "from nltk.corpus import stopwords\n",
    "nltk.download('stopwords')"
   ]
  },
  {
   "cell_type": "code",
   "execution_count": 50,
   "id": "458827ed-a14c-40c2-9f97-70783fa696ec",
   "metadata": {},
   "outputs": [
    {
     "data": {
      "text/plain": [
       "['i',\n",
       " 'me',\n",
       " 'my',\n",
       " 'myself',\n",
       " 'we',\n",
       " 'our',\n",
       " 'ours',\n",
       " 'ourselves',\n",
       " 'you',\n",
       " \"you're\",\n",
       " \"you've\",\n",
       " \"you'll\",\n",
       " \"you'd\",\n",
       " 'your',\n",
       " 'yours',\n",
       " 'yourself',\n",
       " 'yourselves',\n",
       " 'he',\n",
       " 'him',\n",
       " 'his']"
      ]
     },
     "execution_count": 50,
     "metadata": {},
     "output_type": "execute_result"
    }
   ],
   "source": [
    "# Пример стоп слов eng алфавита\n",
    "stopwords.words('english')[:20]"
   ]
  },
  {
   "cell_type": "code",
   "execution_count": 51,
   "id": "1e0c0a91-b9d7-41da-9b89-c65a16eb7e1e",
   "metadata": {},
   "outputs": [],
   "source": [
    "df = pd.read_csv('data/train.csv')"
   ]
  },
  {
   "cell_type": "code",
   "execution_count": 52,
   "id": "fc8f5eb3-6c66-444f-b814-bd7cd26c54bc",
   "metadata": {},
   "outputs": [
    {
     "data": {
      "image/png": "[encoded data removed]",
      "text/plain": [
       "<Figure size 432x432 with 1 Axes>"
      ]
     },
     "metadata": {
      "needs_background": "light"
     },
     "output_type": "display_data"
    }
   ],
   "source": [
    "plt.figure(figsize=(6, 6))\n",
    "sns.countplot(df['author'])\n",
    "plt.grid(axis='y')\n",
    "plt.show()"
   ]
  },
  {
   "cell_type": "markdown",
   "id": "f2b8b8ba-cbeb-4f82-91f8-13f5ffa6285e",
   "metadata": {},
   "source": [
    "## Приведем данные к нормальному виду, векторизуя их и кодируя"
   ]
  },
  {
   "cell_type": "code",
   "execution_count": 53,
   "id": "e04af651-1f0f-425f-ba5b-f6cf1ff14f28",
   "metadata": {},
   "outputs": [],
   "source": [
    "y = df.loc[:,['author']]\n",
    "en = LabelEncoder()\n",
    "y = en.fit_transform(y.author.values)"
   ]
  },
  {
   "cell_type": "code",
   "execution_count": 54,
   "id": "83222e30-1a72-4b1b-8226-071f4e371b56",
   "metadata": {},
   "outputs": [
    {
     "data": {
      "text/plain": [
       "<AxesSubplot:ylabel='count'>"
      ]
     },
     "execution_count": 54,
     "metadata": {},
     "output_type": "execute_result"
    },
    {
     "data": {
      "image/png": "[encoded data removed]",
      "text/plain": [
       "<Figure size 432x288 with 1 Axes>"
      ]
     },
     "metadata": {
      "needs_background": "light"
     },
     "output_type": "display_data"
    }
   ],
   "source": [
    "x_train, x_test, y_train, y_test = train_test_split(df.text, y, stratify = y, test_size=.25, shuffle=True, random_state = 42)\n",
    "sns.countplot(y_train)"
   ]
  },
  {
   "cell_type": "code",
   "execution_count": 55,
   "id": "c7dd35ee-4c86-455b-a4b2-f85e8735fcd2",
   "metadata": {},
   "outputs": [
    {
     "data": {
      "text/plain": [
       "<AxesSubplot:ylabel='count'>"
      ]
     },
     "execution_count": 55,
     "metadata": {},
     "output_type": "execute_result"
    },
    {
     "data": {
      "image/png": "[encoded data removed]",
      "text/plain": [
       "<Figure size 432x288 with 1 Axes>"
      ]
     },
     "metadata": {
      "needs_background": "light"
     },
     "output_type": "display_data"
    }
   ],
   "source": [
    "sns.countplot(y_test)"
   ]
  },
  {
   "cell_type": "code",
   "execution_count": 56,
   "id": "d136ed0d-ddb2-4402-893c-561f370e8703",
   "metadata": {},
   "outputs": [],
   "source": [
    "#Создаем инстанс векторайзера\n",
    "tfid = TfidfVectorizer(stop_words='english')"
   ]
  },
  {
   "cell_type": "code",
   "execution_count": 57,
   "id": "aec2dd5f-0c83-494f-919d-bc28aab54c67",
   "metadata": {},
   "outputs": [
    {
     "data": {
      "text/plain": [
       "TfidfVectorizer(stop_words='english')"
      ]
     },
     "execution_count": 57,
     "metadata": {},
     "output_type": "execute_result"
    }
   ],
   "source": [
    "tfid.fit(list(x_train) + list(x_test))"
   ]
  },
  {
   "cell_type": "code",
   "execution_count": 58,
   "id": "53218547-dfef-4ddf-8ce8-c20b7fc0052b",
   "metadata": {},
   "outputs": [],
   "source": [
    "#Подготавливаем данные для модели, нормализация для текста\n",
    "x_train = tfid.transform(x_train)\n",
    "x_test = tfid.transform(x_test)"
   ]
  },
  {
   "cell_type": "markdown",
   "id": "6244dd9a-3004-4411-b595-775a24b0a2db",
   "metadata": {},
   "source": [
    "# Пробуем использовать LR"
   ]
  },
  {
   "cell_type": "code",
   "execution_count": 13,
   "id": "5f5f9ce5-e532-49a9-83dd-03a414421dea",
   "metadata": {},
   "outputs": [],
   "source": [
    "lgr = LogisticRegression(C=1.0)"
   ]
  },
  {
   "cell_type": "code",
   "execution_count": 14,
   "id": "767f0450-ff5b-4075-ba70-4b48b5182972",
   "metadata": {},
   "outputs": [
    {
     "data": {
      "text/plain": [
       "LogisticRegression()"
      ]
     },
     "execution_count": 14,
     "metadata": {},
     "output_type": "execute_result"
    }
   ],
   "source": [
    "lgr.fit(x_train, y_train)"
   ]
  },
  {
   "cell_type": "code",
   "execution_count": 15,
   "id": "50472455-2dcc-4df2-82b5-322b7b0ddef7",
   "metadata": {},
   "outputs": [
    {
     "data": {
      "text/plain": [
       "(4895, 3)"
      ]
     },
     "execution_count": 15,
     "metadata": {},
     "output_type": "execute_result"
    }
   ],
   "source": [
    "a = lgr.predict_proba(x_test)\n",
    "\n",
    "def conver(actual, a):\n",
    "    if len(actual.shape)==1:\n",
    "        temp = np.zeros((actual.shape[0], a.shape[1]))\n",
    "        for i,j in enumerate(actual):\n",
    "            temp[i, j]=1\n",
    "        actual = temp    \n",
    "    return actual\n",
    "\n",
    "binary = conver(y_test, a)\n",
    "\n",
    "a.shape"
   ]
  },
  {
   "cell_type": "code",
   "execution_count": 16,
   "id": "26eda14e-68c3-4769-bbec-74779b874230",
   "metadata": {},
   "outputs": [
    {
     "data": {
      "text/plain": [
       "(4895, 3)"
      ]
     },
     "execution_count": 16,
     "metadata": {},
     "output_type": "execute_result"
    }
   ],
   "source": [
    "binary.shape"
   ]
  },
  {
   "cell_type": "code",
   "execution_count": 17,
   "id": "2be926f3-6f72-4804-b05b-95a58dbcbfed",
   "metadata": {},
   "outputs": [
    {
     "data": {
      "text/plain": [
       "0.6046740806846314"
      ]
     },
     "execution_count": 17,
     "metadata": {},
     "output_type": "execute_result"
    }
   ],
   "source": [
    "#Посмотрим результат функции потерь\n",
    "log_loss(binary, a)"
   ]
  },
  {
   "cell_type": "markdown",
   "id": "0d8c4a79-e552-4b8c-99d7-f198152fff43",
   "metadata": {},
   "source": [
    "# Попробуем использовать SVC модель"
   ]
  },
  {
   "cell_type": "code",
   "execution_count": 18,
   "id": "ad0fe6ea-23e2-4d02-9a6c-1400a3695daf",
   "metadata": {},
   "outputs": [
    {
     "data": {
      "text/plain": [
       "SVC(probability=True)"
      ]
     },
     "execution_count": 18,
     "metadata": {},
     "output_type": "execute_result"
    }
   ],
   "source": [
    "sv_model = SVC(probability = True)\n",
    "sv_model.fit(x_train, y_train)"
   ]
  },
  {
   "cell_type": "code",
   "execution_count": 19,
   "id": "9e463232-0673-459d-a2b6-d1156cb75559",
   "metadata": {},
   "outputs": [
    {
     "data": {
      "text/plain": [
       "(4895, 3)"
      ]
     },
     "execution_count": 19,
     "metadata": {},
     "output_type": "execute_result"
    }
   ],
   "source": [
    "predicted=sv_model.predict_proba(x_test)\n",
    "predicted.shape"
   ]
  },
  {
   "cell_type": "code",
   "execution_count": 20,
   "id": "ed3c0a39-cb98-4510-b739-c20a2c06f56c",
   "metadata": {},
   "outputs": [
    {
     "data": {
      "text/plain": [
       "0.5056768893308743"
      ]
     },
     "execution_count": 20,
     "metadata": {},
     "output_type": "execute_result"
    }
   ],
   "source": [
    "log_loss(y_test,predicted)"
   ]
  },
  {
   "cell_type": "code",
   "execution_count": 23,
   "id": "a091b4d1-01f9-404e-82a6-35197b2d336d",
   "metadata": {},
   "outputs": [
    {
     "data": {
      "text/plain": [
       "array([[9.87182939e-01, 2.99636794e-03, 9.82069313e-03],\n",
       "       [3.89901294e-03, 5.67742071e-04, 9.95533245e-01],\n",
       "       [4.02554030e-01, 4.98864946e-01, 9.85810232e-02],\n",
       "       ...,\n",
       "       [1.91504317e-03, 4.32237074e-04, 9.97652720e-01],\n",
       "       [1.94235727e-01, 7.67661672e-03, 7.98087656e-01],\n",
       "       [6.54175015e-01, 6.41662347e-03, 3.39408361e-01]])"
      ]
     },
     "execution_count": 23,
     "metadata": {},
     "output_type": "execute_result"
    }
   ],
   "source": [
    "predicted"
   ]
  },
  {
   "cell_type": "code",
   "execution_count": 24,
   "id": "39ea6f6e-35b1-4330-a9d4-60fe6b628a5b",
   "metadata": {},
   "outputs": [
    {
     "data": {
      "text/plain": [
       "array([0, 2, 0, ..., 2, 2, 2])"
      ]
     },
     "execution_count": 24,
     "metadata": {},
     "output_type": "execute_result"
    }
   ],
   "source": [
    "y_test"
   ]
  },
  {
   "cell_type": "code",
   "execution_count": 41,
   "id": "3fcc220f-513b-4439-b757-7db042529ddf",
   "metadata": {},
   "outputs": [],
   "source": [
    "# Создадим список для проверки точности модели\n",
    "testing = []\n",
    "for j in predicted:\n",
    "    el = max([el for el in j])\n",
    "    testing.append(np.where(j == el)[0][0])"
   ]
  },
  {
   "cell_type": "code",
   "execution_count": 42,
   "id": "5a22c304-f2d8-427f-b574-411ece182a69",
   "metadata": {},
   "outputs": [
    {
     "data": {
      "text/plain": [
       "0.8053115423901941"
      ]
     },
     "execution_count": 42,
     "metadata": {},
     "output_type": "execute_result"
    }
   ],
   "source": [
    "accuracy_score(y_test, testing)"
   ]
  },
  {
   "cell_type": "code",
   "execution_count": 43,
   "id": "83240fea-5ccc-4c30-ad26-83da5b68a059",
   "metadata": {},
   "outputs": [
    {
     "name": "stdout",
     "output_type": "stream",
     "text": [
      "              precision    recall  f1-score   support\n",
      "\n",
      "           0       0.79      0.83      0.81      1975\n",
      "           1       0.81      0.78      0.80      1409\n",
      "           2       0.82      0.79      0.80      1511\n",
      "\n",
      "    accuracy                           0.81      4895\n",
      "   macro avg       0.81      0.80      0.80      4895\n",
      "weighted avg       0.81      0.81      0.81      4895\n",
      "\n"
     ]
    }
   ],
   "source": [
    "#Сводная информация по модели\n",
    "print(classification_report(y_test, testing))"
   ]
  },
  {
   "cell_type": "code",
   "execution_count": null,
   "id": "9a8f314b-ff00-4d1e-ac12-4dbdbb6286e1",
   "metadata": {},
   "outputs": [],
   "source": []
  }
 ],
 "metadata": {
  "kernelspec": {
   "display_name": "Python 3 (ipykernel)",
   "language": "python",
   "name": "python3"
  },
  "language_info": {
   "codemirror_mode": {
    "name": "ipython",
    "version": 3
   },
   "file_extension": ".py",
   "mimetype": "text/x-python",
   "name": "python",
   "nbconvert_exporter": "python",
   "pygments_lexer": "ipython3",
   "version": "3.9.7"
  }
 },
 "nbformat": 4,
 "nbformat_minor": 5
}

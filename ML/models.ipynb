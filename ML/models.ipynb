{
 "cells": [
  {
   "cell_type": "code",
   "execution_count": 1,
   "id": "63a75fdf-a610-41c3-ba74-3b3ba0a36a95",
   "metadata": {},
   "outputs": [],
   "source": [
    "import pandas as pd\n",
    "import re\n",
    "import numpy as np\n",
    "import matplotlib.pyplot as plt\n",
    "import seaborn\n",
    "from matplotlib.pyplot import figure\n",
    "from nltk.stem import *\n",
    "from nltk.corpus import stopwords\n",
    "from pymystem3 import Mystem\n",
    "from string import punctuation\n",
    "from tqdm.auto import tqdm, trange"
   ]
  },
  {
   "cell_type": "code",
   "execution_count": 2,
   "id": "8e8acffb-5f36-4ffa-bc87-f86f47b927aa",
   "metadata": {},
   "outputs": [
    {
     "data": {
      "text/plain": [
       "<Figure size 1200x800 with 0 Axes>"
      ]
     },
     "execution_count": 2,
     "metadata": {},
     "output_type": "execute_result"
    },
    {
     "data": {
      "text/plain": [
       "<Figure size 1200x800 with 0 Axes>"
      ]
     },
     "metadata": {},
     "output_type": "display_data"
    }
   ],
   "source": [
    "figure(figsize=(15, 10), dpi=80)"
   ]
  },
  {
   "cell_type": "code",
   "execution_count": 3,
   "id": "a1c4a78d-c8fd-4eca-a7d1-a38fbc4667e9",
   "metadata": {},
   "outputs": [],
   "source": [
    "df = pd.read_csv('test_data.csv', index_col=[0])"
   ]
  },
  {
   "cell_type": "code",
   "execution_count": 4,
   "id": "6e0203a4-f13a-4f79-a8fe-06d3cbcc5aa8",
   "metadata": {},
   "outputs": [
    {
     "data": {
      "text/plain": [
       "(24297, 2)"
      ]
     },
     "execution_count": 4,
     "metadata": {},
     "output_type": "execute_result"
    }
   ],
   "source": [
    "df.shape"
   ]
  },
  {
   "cell_type": "code",
   "execution_count": 5,
   "id": "9fcb70b1-04d7-4485-b61d-42f758f495dc",
   "metadata": {},
   "outputs": [
    {
     "data": {
      "text/html": [
       "<div>\n",
       "<style scoped>\n",
       "    .dataframe tbody tr th:only-of-type {\n",
       "        vertical-align: middle;\n",
       "    }\n",
       "\n",
       "    .dataframe tbody tr th {\n",
       "        vertical-align: top;\n",
       "    }\n",
       "\n",
       "    .dataframe thead th {\n",
       "        text-align: right;\n",
       "    }\n",
       "</style>\n",
       "<table border=\"1\" class=\"dataframe\">\n",
       "  <thead>\n",
       "    <tr style=\"text-align: right;\">\n",
       "      <th></th>\n",
       "      <th>Text</th>\n",
       "      <th>Author</th>\n",
       "    </tr>\n",
       "  </thead>\n",
       "  <tbody>\n",
       "    <tr>\n",
       "      <th>0</th>\n",
       "      <td>Весна, весна на улице,\\r\\nВесенние деньки!\\r\\n...</td>\n",
       "      <td>Агния Барто</td>\n",
       "    </tr>\n",
       "    <tr>\n",
       "      <th>1</th>\n",
       "      <td>Мы не заметили жука\\r\\nИ рамы зимние закрыли,\\...</td>\n",
       "      <td>Агния Барто</td>\n",
       "    </tr>\n",
       "    <tr>\n",
       "      <th>2</th>\n",
       "      <td>Написано вместе с Павлом Барто — Ах ты, девочк...</td>\n",
       "      <td>Агния Барто</td>\n",
       "    </tr>\n",
       "    <tr>\n",
       "      <th>3</th>\n",
       "      <td>Шла вчера я за водою,\\r\\nА у нас ведро худое.\\...</td>\n",
       "      <td>Агния Барто</td>\n",
       "    </tr>\n",
       "    <tr>\n",
       "      <th>4</th>\n",
       "      <td>Кто, кто\\r\\nВ этой комнате живёт?\\r\\nКто, кто\\...</td>\n",
       "      <td>Агния Барто</td>\n",
       "    </tr>\n",
       "  </tbody>\n",
       "</table>\n",
       "</div>"
      ],
      "text/plain": [
       "                                                Text       Author\n",
       "0  Весна, весна на улице,\\r\\nВесенние деньки!\\r\\n...  Агния Барто\n",
       "1  Мы не заметили жука\\r\\nИ рамы зимние закрыли,\\...  Агния Барто\n",
       "2  Написано вместе с Павлом Барто — Ах ты, девочк...  Агния Барто\n",
       "3  Шла вчера я за водою,\\r\\nА у нас ведро худое.\\...  Агния Барто\n",
       "4  Кто, кто\\r\\nВ этой комнате живёт?\\r\\nКто, кто\\...  Агния Барто"
      ]
     },
     "execution_count": 5,
     "metadata": {},
     "output_type": "execute_result"
    }
   ],
   "source": [
    "df.head()"
   ]
  },
  {
   "cell_type": "code",
   "execution_count": 6,
   "id": "80ce9e02-9881-466e-89a3-ce10b754abf1",
   "metadata": {},
   "outputs": [
    {
     "name": "stdout",
     "output_type": "stream",
     "text": [
      "['Агния Барто' 'Александр Блок' 'Александр Пушкин'\n",
      " 'Алексей Константинович Толстой' 'Алексей Плещеев' 'Андрей Белый'\n",
      " 'Андрей Вознесенский' 'Андрей Дементьев' 'Анна Ахматова'\n",
      " 'Арсений Тарковский' 'Афанасий Фет' 'Белла Ахмадулина' 'Борис Пастернак'\n",
      " 'Борис Рыжий' 'Булат Окуджава' 'Валерий Брюсов' 'Василий Жуковский'\n",
      " 'Велимир Хлебников' 'Вероника Тушнова' 'Владимир Высоцкий'\n",
      " 'Владимир Маяковский' 'Гавриил Державин' 'Даниил Хармс'\n",
      " 'Дмитрий Мережковский' 'Евгений Баратынский' 'Евгений Евтушенко'\n",
      " 'Зинаида Гиппиус' 'Иван Бунин' 'Иван Крылов' 'Иван Тургенев'\n",
      " 'Игорь Северянин' 'Иннокентий Анненский' 'Иосиф Бродский'\n",
      " 'Константин Бальмонт' 'Константин Батюшков' 'Марина Цветаева'\n",
      " 'Михаил Лермонтов' 'Михаил Ломоносов' 'Муса Джалиль'\n",
      " 'Никитин Иван Саввич' 'Николай Гумилев' 'Николай Заболоцкий'\n",
      " 'Николай Некрасов' 'Николай Рубцов' 'Ольга Берггольц' 'Осип Мандельштам'\n",
      " 'Роберт Рождественский' 'Самуил Маршак' 'Саша Черный' 'Сергей Есенин'\n",
      " 'Сергей Михалков' 'Федор Тютчев' 'Эдуард Асадов' 'Юлия Друнина'\n",
      " 'Юнна Мориц'] 55\n"
     ]
    }
   ],
   "source": [
    "print(df['Author'].unique(), len(df['Author'].unique()))"
   ]
  },
  {
   "cell_type": "code",
   "execution_count": 7,
   "id": "7716b8ae-129b-4422-8925-64cf9c0f61d0",
   "metadata": {},
   "outputs": [],
   "source": [
    "df = df.dropna()"
   ]
  },
  {
   "cell_type": "code",
   "execution_count": 8,
   "id": "f38a0af4-6c5e-49a9-bb92-03bb1b3444a2",
   "metadata": {},
   "outputs": [
    {
     "data": {
      "text/html": [
       "<div>\n",
       "<style scoped>\n",
       "    .dataframe tbody tr th:only-of-type {\n",
       "        vertical-align: middle;\n",
       "    }\n",
       "\n",
       "    .dataframe tbody tr th {\n",
       "        vertical-align: top;\n",
       "    }\n",
       "\n",
       "    .dataframe thead th {\n",
       "        text-align: right;\n",
       "    }\n",
       "</style>\n",
       "<table border=\"1\" class=\"dataframe\">\n",
       "  <thead>\n",
       "    <tr style=\"text-align: right;\">\n",
       "      <th></th>\n",
       "      <th>Text</th>\n",
       "      <th>Author</th>\n",
       "    </tr>\n",
       "  </thead>\n",
       "  <tbody>\n",
       "    <tr>\n",
       "      <th>0</th>\n",
       "      <td>Весна, весна на улице,\\r\\nВесенние деньки!\\r\\n...</td>\n",
       "      <td>Агния Барто</td>\n",
       "    </tr>\n",
       "    <tr>\n",
       "      <th>1</th>\n",
       "      <td>Мы не заметили жука\\r\\nИ рамы зимние закрыли,\\...</td>\n",
       "      <td>Агния Барто</td>\n",
       "    </tr>\n",
       "    <tr>\n",
       "      <th>2</th>\n",
       "      <td>Написано вместе с Павлом Барто — Ах ты, девочк...</td>\n",
       "      <td>Агния Барто</td>\n",
       "    </tr>\n",
       "    <tr>\n",
       "      <th>3</th>\n",
       "      <td>Шла вчера я за водою,\\r\\nА у нас ведро худое.\\...</td>\n",
       "      <td>Агния Барто</td>\n",
       "    </tr>\n",
       "    <tr>\n",
       "      <th>4</th>\n",
       "      <td>Кто, кто\\r\\nВ этой комнате живёт?\\r\\nКто, кто\\...</td>\n",
       "      <td>Агния Барто</td>\n",
       "    </tr>\n",
       "    <tr>\n",
       "      <th>...</th>\n",
       "      <td>...</td>\n",
       "      <td>...</td>\n",
       "    </tr>\n",
       "    <tr>\n",
       "      <th>304</th>\n",
       "      <td>Эту ветку миндаля\\r\\nОтодвинем! Лет на двадцат...</td>\n",
       "      <td>Юнна Мориц</td>\n",
       "    </tr>\n",
       "    <tr>\n",
       "      <th>305</th>\n",
       "      <td>Этот пруд за оградой,\\r\\nДеревья ничьи\\r\\nБыли...</td>\n",
       "      <td>Юнна Мориц</td>\n",
       "    </tr>\n",
       "    <tr>\n",
       "      <th>306</th>\n",
       "      <td>Это яблони так благовонны,\\r\\nЭто яблоки в лис...</td>\n",
       "      <td>Юнна Мориц</td>\n",
       "    </tr>\n",
       "    <tr>\n",
       "      <th>307</th>\n",
       "      <td>У нас такая синева\\r\\nВ окне — от близости рек...</td>\n",
       "      <td>Юнна Мориц</td>\n",
       "    </tr>\n",
       "    <tr>\n",
       "      <th>308</th>\n",
       "      <td>Изменился климат, вымерли подчистую\\r\\nмамонты...</td>\n",
       "      <td>Юнна Мориц</td>\n",
       "    </tr>\n",
       "  </tbody>\n",
       "</table>\n",
       "<p>24240 rows × 2 columns</p>\n",
       "</div>"
      ],
      "text/plain": [
       "                                                  Text       Author\n",
       "0    Весна, весна на улице,\\r\\nВесенние деньки!\\r\\n...  Агния Барто\n",
       "1    Мы не заметили жука\\r\\nИ рамы зимние закрыли,\\...  Агния Барто\n",
       "2    Написано вместе с Павлом Барто — Ах ты, девочк...  Агния Барто\n",
       "3    Шла вчера я за водою,\\r\\nА у нас ведро худое.\\...  Агния Барто\n",
       "4    Кто, кто\\r\\nВ этой комнате живёт?\\r\\nКто, кто\\...  Агния Барто\n",
       "..                                                 ...          ...\n",
       "304  Эту ветку миндаля\\r\\nОтодвинем! Лет на двадцат...   Юнна Мориц\n",
       "305  Этот пруд за оградой,\\r\\nДеревья ничьи\\r\\nБыли...   Юнна Мориц\n",
       "306  Это яблони так благовонны,\\r\\nЭто яблоки в лис...   Юнна Мориц\n",
       "307  У нас такая синева\\r\\nВ окне — от близости рек...   Юнна Мориц\n",
       "308  Изменился климат, вымерли подчистую\\r\\nмамонты...   Юнна Мориц\n",
       "\n",
       "[24240 rows x 2 columns]"
      ]
     },
     "execution_count": 8,
     "metadata": {},
     "output_type": "execute_result"
    }
   ],
   "source": [
    "df"
   ]
  },
  {
   "cell_type": "code",
   "execution_count": 9,
   "id": "9e451a8f-d5cc-4d67-918d-33c1061ee0db",
   "metadata": {},
   "outputs": [
    {
     "data": {
      "image/png": "[encoded data removed]",
      "text/plain": [
       "<Figure size 1080x720 with 1 Axes>"
      ]
     },
     "metadata": {
      "needs_background": "light"
     },
     "output_type": "display_data"
    }
   ],
   "source": [
    "plt.figure(figsize=(15, 10))\n",
    "seaborn.barplot(x=df['Author'].unique(), y=df['Author'].value_counts())\n",
    "plt.xticks(rotation=75)\n",
    "plt.show()"
   ]
  },
  {
   "cell_type": "markdown",
   "id": "5f8cc0ce-8f96-45c1-921b-08a5472b4646",
   "metadata": {},
   "source": [
    "# Фильтруем данные. Выбираем только тех авторов, где есть более 850 стихотворений"
   ]
  },
  {
   "cell_type": "code",
   "execution_count": 10,
   "id": "b4b0bd9a-8164-4dc8-91b6-2451d2e09699",
   "metadata": {},
   "outputs": [],
   "source": [
    "pre_df = df['Author'].value_counts() > 850\n",
    "valid_names = pre_df.index[:pre_df.values.sum()]\n",
    "df = df.loc[df['Author'].isin(valid_names)].reset_index(drop=True)"
   ]
  },
  {
   "cell_type": "code",
   "execution_count": 11,
   "id": "82d98968-e482-48c3-971c-34730da95e8e",
   "metadata": {
    "tags": []
   },
   "outputs": [
    {
     "data": {
      "text/html": [
       "<div>\n",
       "<style scoped>\n",
       "    .dataframe tbody tr th:only-of-type {\n",
       "        vertical-align: middle;\n",
       "    }\n",
       "\n",
       "    .dataframe tbody tr th {\n",
       "        vertical-align: top;\n",
       "    }\n",
       "\n",
       "    .dataframe thead th {\n",
       "        text-align: right;\n",
       "    }\n",
       "</style>\n",
       "<table border=\"1\" class=\"dataframe\">\n",
       "  <thead>\n",
       "    <tr style=\"text-align: right;\">\n",
       "      <th></th>\n",
       "      <th>Text</th>\n",
       "      <th>Author</th>\n",
       "    </tr>\n",
       "  </thead>\n",
       "  <tbody>\n",
       "    <tr>\n",
       "      <th>0</th>\n",
       "      <td>Река раскинулась. Течет, грустит лениво\\r\\nИ м...</td>\n",
       "      <td>Александр Блок</td>\n",
       "    </tr>\n",
       "    <tr>\n",
       "      <th>1</th>\n",
       "      <td>Никогда не забуду (он был, или не был,\\r\\nЭтот...</td>\n",
       "      <td>Александр Блок</td>\n",
       "    </tr>\n",
       "    <tr>\n",
       "      <th>2</th>\n",
       "      <td>Мильоны — вас. Нас — тьмы, и тьмы, и тьмы.\\r\\n...</td>\n",
       "      <td>Александр Блок</td>\n",
       "    </tr>\n",
       "    <tr>\n",
       "      <th>3</th>\n",
       "      <td>Ты и во сне необычайна.\\r\\nТвоей одежды не кос...</td>\n",
       "      <td>Александр Блок</td>\n",
       "    </tr>\n",
       "    <tr>\n",
       "      <th>4</th>\n",
       "      <td>Опять, как в годы золотые,\\r\\nТри стертых треп...</td>\n",
       "      <td>Александр Блок</td>\n",
       "    </tr>\n",
       "    <tr>\n",
       "      <th>...</th>\n",
       "      <td>...</td>\n",
       "      <td>...</td>\n",
       "    </tr>\n",
       "    <tr>\n",
       "      <th>10734</th>\n",
       "      <td>Осень. Деревья в аллее — как воины.\\r\\nКаждое ...</td>\n",
       "      <td>Марина Цветаева</td>\n",
       "    </tr>\n",
       "    <tr>\n",
       "      <th>10735</th>\n",
       "      <td>Опустивши забрало,\\r\\nСо всем — в борьбе,\\r\\nУ...</td>\n",
       "      <td>Марина Цветаева</td>\n",
       "    </tr>\n",
       "    <tr>\n",
       "      <th>10736</th>\n",
       "      <td>Окно раскрыло створки —\\r\\nКак руки. Но скрест...</td>\n",
       "      <td>Марина Цветаева</td>\n",
       "    </tr>\n",
       "    <tr>\n",
       "      <th>10737</th>\n",
       "      <td>Уже богов — не те уже щедроты\\r\\nНа берегах — ...</td>\n",
       "      <td>Марина Цветаева</td>\n",
       "    </tr>\n",
       "    <tr>\n",
       "      <th>10738</th>\n",
       "      <td>Оползающая глыба —\\r\\nИз последних сил спасибо...</td>\n",
       "      <td>Марина Цветаева</td>\n",
       "    </tr>\n",
       "  </tbody>\n",
       "</table>\n",
       "<p>10739 rows × 2 columns</p>\n",
       "</div>"
      ],
      "text/plain": [
       "                                                    Text           Author\n",
       "0      Река раскинулась. Течет, грустит лениво\\r\\nИ м...   Александр Блок\n",
       "1      Никогда не забуду (он был, или не был,\\r\\nЭтот...   Александр Блок\n",
       "2      Мильоны — вас. Нас — тьмы, и тьмы, и тьмы.\\r\\n...   Александр Блок\n",
       "3      Ты и во сне необычайна.\\r\\nТвоей одежды не кос...   Александр Блок\n",
       "4      Опять, как в годы золотые,\\r\\nТри стертых треп...   Александр Блок\n",
       "...                                                  ...              ...\n",
       "10734  Осень. Деревья в аллее — как воины.\\r\\nКаждое ...  Марина Цветаева\n",
       "10735  Опустивши забрало,\\r\\nСо всем — в борьбе,\\r\\nУ...  Марина Цветаева\n",
       "10736  Окно раскрыло створки —\\r\\nКак руки. Но скрест...  Марина Цветаева\n",
       "10737  Уже богов — не те уже щедроты\\r\\nНа берегах — ...  Марина Цветаева\n",
       "10738  Оползающая глыба —\\r\\nИз последних сил спасибо...  Марина Цветаева\n",
       "\n",
       "[10739 rows x 2 columns]"
      ]
     },
     "execution_count": 11,
     "metadata": {},
     "output_type": "execute_result"
    }
   ],
   "source": [
    "df"
   ]
  },
  {
   "cell_type": "code",
   "execution_count": 12,
   "id": "226072a5-fcd2-4653-b204-773c05e39892",
   "metadata": {},
   "outputs": [
    {
     "data": {
      "text/plain": [
       "(10739, 2)"
      ]
     },
     "execution_count": 12,
     "metadata": {},
     "output_type": "execute_result"
    }
   ],
   "source": [
    "df.shape"
   ]
  },
  {
   "cell_type": "code",
   "execution_count": 13,
   "id": "6b29ce29-40f5-43ce-bcaa-88e3c77b27ae",
   "metadata": {},
   "outputs": [
    {
     "data": {
      "image/png": "[encoded data removed]",
      "text/plain": [
       "<Figure size 720x576 with 1 Axes>"
      ]
     },
     "metadata": {
      "needs_background": "light"
     },
     "output_type": "display_data"
    }
   ],
   "source": [
    "plt.figure(figsize=(10, 8))\n",
    "seaborn.barplot(x=df['Author'].unique(), y=df['Author'].value_counts())\n",
    "plt.xticks(rotation=15)\n",
    "plt.show()"
   ]
  },
  {
   "cell_type": "markdown",
   "id": "0a1f564e-5b96-4b73-b313-23f65424725e",
   "metadata": {},
   "source": [
    "# Предобработка"
   ]
  },
  {
   "cell_type": "code",
   "execution_count": 14,
   "id": "0593e568-64f1-4227-93c0-3f930582be48",
   "metadata": {},
   "outputs": [],
   "source": [
    "import string\n",
    "\n",
    "\n",
    "def remove_punctuation(text: str) -> str:\n",
    "    return ''.join([ch if ch not in string.punctuation else ' ' for ch in text])\n",
    "\n",
    "\n",
    "def remove_numbers(text: str) -> str:\n",
    "    return ''.join([ch if not ch.isdigit() else ' ' for ch in text])\n",
    "\n",
    "\n",
    "def remove_row(text: str)-> str:\n",
    "    return text.replace(r'\\r', '').replace(r'\\n', '')\n",
    "\n",
    "def remove_spaces(text: str) -> str:\n",
    "    return re.sub(r'\\s+', ' ', text, flags=re.I)"
   ]
  },
  {
   "cell_type": "code",
   "execution_count": 15,
   "id": "f1a86fa5-c6e7-43fb-bed4-f9daf0d49fbf",
   "metadata": {},
   "outputs": [],
   "source": [
    "russian_stopwords = stopwords.words(\"russian\")\n",
    "russian_stopwords.extend(['…', '«', '»', '...'])"
   ]
  },
  {
   "cell_type": "code",
   "execution_count": 16,
   "id": "09f48d17-c101-4e7e-87d5-c3ce19a12d2c",
   "metadata": {},
   "outputs": [],
   "source": [
    "def lemmatize_text(text):\n",
    "    tokens = mystem.lemmatize(text.lower())\n",
    "    tokens = [token for token in tokens if token not in russian_stopwords and token != \" \"]\n",
    "    text = \" \".join(tokens)\n",
    "    return text"
   ]
  },
  {
   "cell_type": "code",
   "execution_count": 17,
   "id": "224a35b6-8f4f-4943-8e61-042d73d71e92",
   "metadata": {},
   "outputs": [
    {
     "data": {
      "application/vnd.jupyter.widget-view+json": {
       "model_id": "3cafaf310a3846dca3a9f7c5245be1ca",
       "version_major": 2,
       "version_minor": 0
      },
      "text/plain": [
       "  0%|          | 0/10739 [00:00<?, ?it/s]"
      ]
     },
     "metadata": {},
     "output_type": "display_data"
    }
   ],
   "source": [
    "prep_text = [remove_spaces(remove_numbers(remove_row(remove_punctuation(text.lower())))) for text in tqdm(df['Text'])]"
   ]
  },
  {
   "cell_type": "code",
   "execution_count": 18,
   "id": "74a267c4-29ca-4a91-ace3-0604319da006",
   "metadata": {},
   "outputs": [
    {
     "data": {
      "text/plain": [
       "'река раскинулась течет грустит лениво и моет берега над скудной глиной желтого обрыва в степи грустят стога о русь моя жена моя до боли нам ясен долгий путь наш путь — стрелой татарской древней воли пронзил нам грудь наш путь — степной наш путь — в тоске безбрежной — в твоей тоске о русь и даже мглы — ночной и зарубежной — я не боюсь пусть ночь домчимся озарим кострами степную даль в степном дыму блеснет святое знамя и ханской сабли сталь… и вечный бой покой нам только снится сквозь кровь и пыль… летит летит степная кобылица и мнет ковыль… и нет конца мелькают версты кручи… останови идут идут испуганные тучи закат в крови закат в крови из сердца кровь струится плачь сердце плачь… покоя нет степная кобылица несется вскачь мы сам друг над степью в полночь стали не вернуться не взглянуть назад за непрядвой лебеди кричали и опять опять они кричат… на пути — горючий белый камень за рекой — поганая орда светлый стяг над нашими полками не взыграет больше никогда и к земле склонившись головою говорит мне друг «остри свой меч чтоб недаром биться с татарвою за святое дело мертвым лечь » я — не первый воин не последний долго будет родина больна помяни ж за раннею обедней мила друга светлая жена в ночь когда мамай залег с ордою степи и мосты в темном поле были мы с тобою — разве знала ты перед доном темным и зловещим средь ночных полей слышал я твой голос сердцем вещим в криках лебедей с полуно’чи тучей возносилась княжеская рать и вдали вдали о стремя билась голосила мать и чертя круги ночные птицы реяли вдали а над русью тихие зарницы князя стерегли орлий клёкот над татарским станом угрожал бедой а непрядва убралась туманом что княжна фатой и с туманом над непрядвой спящей прямо на меня ты сошла в одежде свет струящей не спугнув коня серебром волны блеснула другу на стальном мече освежила пыльную кольчугу на моем плече и когда наутро тучей черной двинулась орда был в щите твой лик нерукотворный светел навсегда опять с вековою тоскою пригнулись к земле ковыли опять за туманной рекою ты кличешь меня издали’… умчались пропали без вести степных кобылиц табуны развязаны дикие страсти под игом ущербной луны и я с вековою тоскою как волк под ущербной луной не знаю что делать с собою куда мне лететь за тобой я слушаю рокоты сечи и трубные крики татар я вижу над русью далече широкий и тихий пожар объятый тоскою могучей я рыщу на белом коне… встречаются вольные тучи во мглистой ночной вышине вздымаются светлые мысли в растерзанном сердце моем и падают светлые мысли сожженные темным огнем… «явись мое дивное диво быть светлым меня научи » вздымается конская грива… за ветром взывают мечи… опять над полем куликовым взошла и расточилась мгла и словно облаком суровым грядущий день заволокла за тишиною непробудной за разливающейся мглой не слышно грома битвы чудной не видно молньи боевой но узнаю тебя начало высоких и мятежных дней над вражьим станом как бывало и плеск и трубы лебедей не может сердце жить покоем недаром тучи собрались доспех тяжел как перед боем теперь твой час настал — молись поэт символист а блок – ключевая фигура русской поэзии начала века на протяжении всей жизни его взгляды кардинально менялись что неизменно отражалось в творчестве революция г оказала большое влияние на мировоззрение блока революционные убеждения поэта были серьезно поколеблены ужасом от кровавых событий он переосмысливает свой взгляд на историю и судьбу россии результатом этого становится патриотический цикл «родина» который включает в себя стихотворение «на поле куликовом» г центральный образ произведения – куликовское поле ставшее символом героической победы объединенного русского войска над ненавистной золотой ордой эта победа в конечном счете привела к окончательному избавлению от татаро монгольского ига также она способствовала объединению руси и созданию единого московского государства в более широком смысле куликовская битва считается победой добра над злом в начале стихотворения блок дает общую картину героического прошлого своей страны русь ассоциируется у поэта с образом «степной кобылицы» которая никогда не прекращает свой стремительный бег постоянные набеги кочевников приводят к тому что русские воины проводят большую часть жизни в седле с оружием в руках центральная фраза отражающая это состояние стала крылатой – «покой нам только снится» блок не описывает саму битву для него больше важна подготовка к ней стремление воинов отдать жизнь за свободу и независимость своей отчизны во второй части блок вводит пророческое замечание лирического героя – «долго будет родина больна» автор расширяет описание исторического события до масштабного анализа всей русской истории победа на куликовском поле и свержение ига не принесут покоя русским людям еще неоднократно россия будет находиться в условиях смертельной опасности исходящей от внешних и внутренних врагов в центральной части цикла появляется символ богородицы олицетворяющей собой главную защиту россии ее незримое присутствие придает воинам силы в решающей битве священный свет «лика нерукотворного» побеждает тьму и мрак наполняет сердца мужеством и отвагой в финале блок описывает современное ему состояние россии революционные настроения он воспринимает с огромной тревогой они напоминают ему разгорающийся вдалеке «широкий и тихий пожар» над куликовским полем вновь собираются тучи вторжение темных сил должно вот вот состояться автор надеется что священные заветы предков помогут русским людям одержать победу над очередным врагом залогом победы он считает обращение к вере и заканчивает произведение призывом «молись »'"
      ]
     },
     "execution_count": 18,
     "metadata": {},
     "output_type": "execute_result"
    }
   ],
   "source": [
    "prep_text[0]"
   ]
  },
  {
   "cell_type": "code",
   "execution_count": 19,
   "id": "1f059132-0036-46cf-a82c-3235e05824ed",
   "metadata": {},
   "outputs": [],
   "source": [
    "df['lemma_text'] = prep_text"
   ]
  },
  {
   "cell_type": "code",
   "execution_count": 20,
   "id": "1505a20f-121a-4f60-a2d7-f3a0e5ae697c",
   "metadata": {},
   "outputs": [
    {
     "data": {
      "text/html": [
       "<div>\n",
       "<style scoped>\n",
       "    .dataframe tbody tr th:only-of-type {\n",
       "        vertical-align: middle;\n",
       "    }\n",
       "\n",
       "    .dataframe tbody tr th {\n",
       "        vertical-align: top;\n",
       "    }\n",
       "\n",
       "    .dataframe thead th {\n",
       "        text-align: right;\n",
       "    }\n",
       "</style>\n",
       "<table border=\"1\" class=\"dataframe\">\n",
       "  <thead>\n",
       "    <tr style=\"text-align: right;\">\n",
       "      <th></th>\n",
       "      <th>Text</th>\n",
       "      <th>Author</th>\n",
       "      <th>lemma_text</th>\n",
       "    </tr>\n",
       "  </thead>\n",
       "  <tbody>\n",
       "    <tr>\n",
       "      <th>0</th>\n",
       "      <td>Река раскинулась. Течет, грустит лениво\\r\\nИ м...</td>\n",
       "      <td>Александр Блок</td>\n",
       "      <td>река раскинулась течет грустит лениво и моет б...</td>\n",
       "    </tr>\n",
       "    <tr>\n",
       "      <th>1</th>\n",
       "      <td>Никогда не забуду (он был, или не был,\\r\\nЭтот...</td>\n",
       "      <td>Александр Блок</td>\n",
       "      <td>никогда не забуду он был или не был этот вечер...</td>\n",
       "    </tr>\n",
       "    <tr>\n",
       "      <th>2</th>\n",
       "      <td>Мильоны — вас. Нас — тьмы, и тьмы, и тьмы.\\r\\n...</td>\n",
       "      <td>Александр Блок</td>\n",
       "      <td>мильоны — вас нас — тьмы и тьмы и тьмы попробу...</td>\n",
       "    </tr>\n",
       "    <tr>\n",
       "      <th>3</th>\n",
       "      <td>Ты и во сне необычайна.\\r\\nТвоей одежды не кос...</td>\n",
       "      <td>Александр Блок</td>\n",
       "      <td>ты и во сне необычайна твоей одежды не коснусь...</td>\n",
       "    </tr>\n",
       "    <tr>\n",
       "      <th>4</th>\n",
       "      <td>Опять, как в годы золотые,\\r\\nТри стертых треп...</td>\n",
       "      <td>Александр Блок</td>\n",
       "      <td>опять как в годы золотые три стертых треплются...</td>\n",
       "    </tr>\n",
       "    <tr>\n",
       "      <th>...</th>\n",
       "      <td>...</td>\n",
       "      <td>...</td>\n",
       "      <td>...</td>\n",
       "    </tr>\n",
       "    <tr>\n",
       "      <th>10734</th>\n",
       "      <td>Осень. Деревья в аллее — как воины.\\r\\nКаждое ...</td>\n",
       "      <td>Марина Цветаева</td>\n",
       "      <td>осень деревья в аллее — как воины каждое дерев...</td>\n",
       "    </tr>\n",
       "    <tr>\n",
       "      <th>10735</th>\n",
       "      <td>Опустивши забрало,\\r\\nСо всем — в борьбе,\\r\\nУ...</td>\n",
       "      <td>Марина Цветаева</td>\n",
       "      <td>опустивши забрало со всем — в борьбе у меня уж...</td>\n",
       "    </tr>\n",
       "    <tr>\n",
       "      <th>10736</th>\n",
       "      <td>Окно раскрыло створки —\\r\\nКак руки. Но скрест...</td>\n",
       "      <td>Марина Цветаева</td>\n",
       "      <td>окно раскрыло створки — как руки но скрестив с...</td>\n",
       "    </tr>\n",
       "    <tr>\n",
       "      <th>10737</th>\n",
       "      <td>Уже богов — не те уже щедроты\\r\\nНа берегах — ...</td>\n",
       "      <td>Марина Цветаева</td>\n",
       "      <td>уже богов — не те уже щедроты на берегах — не ...</td>\n",
       "    </tr>\n",
       "    <tr>\n",
       "      <th>10738</th>\n",
       "      <td>Оползающая глыба —\\r\\nИз последних сил спасибо...</td>\n",
       "      <td>Марина Цветаева</td>\n",
       "      <td>оползающая глыба — из последних сил спасибо — ...</td>\n",
       "    </tr>\n",
       "  </tbody>\n",
       "</table>\n",
       "<p>10739 rows × 3 columns</p>\n",
       "</div>"
      ],
      "text/plain": [
       "                                                    Text           Author  \\\n",
       "0      Река раскинулась. Течет, грустит лениво\\r\\nИ м...   Александр Блок   \n",
       "1      Никогда не забуду (он был, или не был,\\r\\nЭтот...   Александр Блок   \n",
       "2      Мильоны — вас. Нас — тьмы, и тьмы, и тьмы.\\r\\n...   Александр Блок   \n",
       "3      Ты и во сне необычайна.\\r\\nТвоей одежды не кос...   Александр Блок   \n",
       "4      Опять, как в годы золотые,\\r\\nТри стертых треп...   Александр Блок   \n",
       "...                                                  ...              ...   \n",
       "10734  Осень. Деревья в аллее — как воины.\\r\\nКаждое ...  Марина Цветаева   \n",
       "10735  Опустивши забрало,\\r\\nСо всем — в борьбе,\\r\\nУ...  Марина Цветаева   \n",
       "10736  Окно раскрыло створки —\\r\\nКак руки. Но скрест...  Марина Цветаева   \n",
       "10737  Уже богов — не те уже щедроты\\r\\nНа берегах — ...  Марина Цветаева   \n",
       "10738  Оползающая глыба —\\r\\nИз последних сил спасибо...  Марина Цветаева   \n",
       "\n",
       "                                              lemma_text  \n",
       "0      река раскинулась течет грустит лениво и моет б...  \n",
       "1      никогда не забуду он был или не был этот вечер...  \n",
       "2      мильоны — вас нас — тьмы и тьмы и тьмы попробу...  \n",
       "3      ты и во сне необычайна твоей одежды не коснусь...  \n",
       "4      опять как в годы золотые три стертых треплются...  \n",
       "...                                                  ...  \n",
       "10734  осень деревья в аллее — как воины каждое дерев...  \n",
       "10735  опустивши забрало со всем — в борьбе у меня уж...  \n",
       "10736  окно раскрыло створки — как руки но скрестив с...  \n",
       "10737  уже богов — не те уже щедроты на берегах — не ...  \n",
       "10738  оползающая глыба — из последних сил спасибо — ...  \n",
       "\n",
       "[10739 rows x 3 columns]"
      ]
     },
     "execution_count": 20,
     "metadata": {},
     "output_type": "execute_result"
    }
   ],
   "source": [
    "df"
   ]
  },
  {
   "cell_type": "markdown",
   "id": "566b4ef9-0bed-406a-bf11-7e5fb0e988f2",
   "metadata": {},
   "source": [
    "# Стемминг"
   ]
  },
  {
   "cell_type": "code",
   "execution_count": 21,
   "id": "77388fa7-d866-44d5-a292-8b319bebc08a",
   "metadata": {},
   "outputs": [],
   "source": [
    "from nltk.stem.snowball import SnowballStemmer \n",
    "from nltk import word_tokenize\n",
    "stemmer = SnowballStemmer(\"russian\") "
   ]
  },
  {
   "cell_type": "code",
   "execution_count": 22,
   "id": "f6ffcf96-a01e-46da-8006-4acb31394712",
   "metadata": {},
   "outputs": [],
   "source": [
    "russian_stopwords = stopwords.words(\"russian\")\n",
    "russian_stopwords.extend(['…', '«', '»', '...', 'т.д.', 'т', 'д'])"
   ]
  },
  {
   "cell_type": "code",
   "execution_count": 23,
   "id": "94dc6151-fc42-4b59-85c8-8e6e018ca8e4",
   "metadata": {},
   "outputs": [
    {
     "data": {
      "text/plain": [
       "['река',\n",
       " 'раскинулась',\n",
       " 'течет',\n",
       " 'грустит',\n",
       " 'лениво',\n",
       " 'и',\n",
       " 'моет',\n",
       " 'берега',\n",
       " 'над',\n",
       " 'скудной',\n",
       " 'глиной',\n",
       " 'желтого',\n",
       " 'обрыва',\n",
       " 'в',\n",
       " 'степи']"
      ]
     },
     "execution_count": 23,
     "metadata": {},
     "output_type": "execute_result"
    }
   ],
   "source": [
    "text = df['lemma_text'][0]\n",
    "word_tokenize(text)[:15]"
   ]
  },
  {
   "cell_type": "code",
   "execution_count": 24,
   "id": "b8387650-de45-45cb-aef8-4b80e30388b4",
   "metadata": {},
   "outputs": [
    {
     "data": {
      "application/vnd.jupyter.widget-view+json": {
       "model_id": "85e48010863e4d4493611a3c44b688ec",
       "version_major": 2,
       "version_minor": 0
      },
      "text/plain": [
       "  0%|          | 0/10739 [00:00<?, ?it/s]"
      ]
     },
     "metadata": {},
     "output_type": "display_data"
    }
   ],
   "source": [
    "stemmed_texts_list = []\n",
    "for text in tqdm(df['lemma_text']):\n",
    "    tokens = word_tokenize(text)    \n",
    "    stemmed_tokens = [stemmer.stem(token) for token in tokens if token not in russian_stopwords]\n",
    "    text = \" \".join(stemmed_tokens)\n",
    "    stemmed_texts_list.append(text)"
   ]
  },
  {
   "cell_type": "code",
   "execution_count": 25,
   "id": "672c8fcd-299c-4606-9579-6ec9145c9728",
   "metadata": {},
   "outputs": [],
   "source": [
    "df['stem_text'] = stemmed_texts_list"
   ]
  },
  {
   "cell_type": "code",
   "execution_count": 26,
   "id": "8fc04cba-8395-4180-a66d-6c91f79d12c5",
   "metadata": {},
   "outputs": [
    {
     "data": {
      "text/html": [
       "<div>\n",
       "<style scoped>\n",
       "    .dataframe tbody tr th:only-of-type {\n",
       "        vertical-align: middle;\n",
       "    }\n",
       "\n",
       "    .dataframe tbody tr th {\n",
       "        vertical-align: top;\n",
       "    }\n",
       "\n",
       "    .dataframe thead th {\n",
       "        text-align: right;\n",
       "    }\n",
       "</style>\n",
       "<table border=\"1\" class=\"dataframe\">\n",
       "  <thead>\n",
       "    <tr style=\"text-align: right;\">\n",
       "      <th></th>\n",
       "      <th>Text</th>\n",
       "      <th>Author</th>\n",
       "      <th>lemma_text</th>\n",
       "      <th>stem_text</th>\n",
       "    </tr>\n",
       "  </thead>\n",
       "  <tbody>\n",
       "    <tr>\n",
       "      <th>0</th>\n",
       "      <td>Река раскинулась. Течет, грустит лениво\\r\\nИ м...</td>\n",
       "      <td>Александр Блок</td>\n",
       "      <td>река раскинулась течет грустит лениво и моет б...</td>\n",
       "      <td>рек раскинул течет груст ленив моет берег скуд...</td>\n",
       "    </tr>\n",
       "    <tr>\n",
       "      <th>1</th>\n",
       "      <td>Никогда не забуду (он был, или не был,\\r\\nЭтот...</td>\n",
       "      <td>Александр Блок</td>\n",
       "      <td>никогда не забуду он был или не был этот вечер...</td>\n",
       "      <td>забуд вечер пожар зар сожж раздвинут бледн неб...</td>\n",
       "    </tr>\n",
       "    <tr>\n",
       "      <th>2</th>\n",
       "      <td>Мильоны — вас. Нас — тьмы, и тьмы, и тьмы.\\r\\n...</td>\n",
       "      <td>Александр Блок</td>\n",
       "      <td>мильоны — вас нас — тьмы и тьмы и тьмы попробу...</td>\n",
       "      <td>мильон — — тьмы тьмы тьмы попроб сраз нам скиф...</td>\n",
       "    </tr>\n",
       "    <tr>\n",
       "      <th>3</th>\n",
       "      <td>Ты и во сне необычайна.\\r\\nТвоей одежды не кос...</td>\n",
       "      <td>Александр Блок</td>\n",
       "      <td>ты и во сне необычайна твоей одежды не коснусь...</td>\n",
       "      <td>сне необычайн тво одежд косн дремл — дремот та...</td>\n",
       "    </tr>\n",
       "    <tr>\n",
       "      <th>4</th>\n",
       "      <td>Опять, как в годы золотые,\\r\\nТри стертых треп...</td>\n",
       "      <td>Александр Блок</td>\n",
       "      <td>опять как в годы золотые три стертых треплются...</td>\n",
       "      <td>год золот стерт треплют шле вязнут спиц распис...</td>\n",
       "    </tr>\n",
       "    <tr>\n",
       "      <th>...</th>\n",
       "      <td>...</td>\n",
       "      <td>...</td>\n",
       "      <td>...</td>\n",
       "      <td>...</td>\n",
       "    </tr>\n",
       "    <tr>\n",
       "      <th>10734</th>\n",
       "      <td>Осень. Деревья в аллее — как воины.\\r\\nКаждое ...</td>\n",
       "      <td>Марина Цветаева</td>\n",
       "      <td>осень деревья в аллее — как воины каждое дерев...</td>\n",
       "      <td>осен дерев алл — воин кажд дерев пахнет сво во...</td>\n",
       "    </tr>\n",
       "    <tr>\n",
       "      <th>10735</th>\n",
       "      <td>Опустивши забрало,\\r\\nСо всем — в борьбе,\\r\\nУ...</td>\n",
       "      <td>Марина Цветаева</td>\n",
       "      <td>опустивши забрало со всем — в борьбе у меня уж...</td>\n",
       "      <td>опуст забра всем — борьб — мал улыбок — себе… ...</td>\n",
       "    </tr>\n",
       "    <tr>\n",
       "      <th>10736</th>\n",
       "      <td>Окно раскрыло створки —\\r\\nКак руки. Но скрест...</td>\n",
       "      <td>Марина Цветаева</td>\n",
       "      <td>окно раскрыло створки — как руки но скрестив с...</td>\n",
       "      <td>окн раскр створк — рук скрест сво — взира форт...</td>\n",
       "    </tr>\n",
       "    <tr>\n",
       "      <th>10737</th>\n",
       "      <td>Уже богов — не те уже щедроты\\r\\nНа берегах — ...</td>\n",
       "      <td>Марина Цветаева</td>\n",
       "      <td>уже богов — не те уже щедроты на берегах — не ...</td>\n",
       "      <td>бог — те щедрот берег — то рек широк закатн во...</td>\n",
       "    </tr>\n",
       "    <tr>\n",
       "      <th>10738</th>\n",
       "      <td>Оползающая глыба —\\r\\nИз последних сил спасибо...</td>\n",
       "      <td>Марина Цветаева</td>\n",
       "      <td>оползающая глыба — из последних сил спасибо — ...</td>\n",
       "      <td>ополза глыб — последн сил спасиб — рвущ — умол...</td>\n",
       "    </tr>\n",
       "  </tbody>\n",
       "</table>\n",
       "<p>10739 rows × 4 columns</p>\n",
       "</div>"
      ],
      "text/plain": [
       "                                                    Text           Author  \\\n",
       "0      Река раскинулась. Течет, грустит лениво\\r\\nИ м...   Александр Блок   \n",
       "1      Никогда не забуду (он был, или не был,\\r\\nЭтот...   Александр Блок   \n",
       "2      Мильоны — вас. Нас — тьмы, и тьмы, и тьмы.\\r\\n...   Александр Блок   \n",
       "3      Ты и во сне необычайна.\\r\\nТвоей одежды не кос...   Александр Блок   \n",
       "4      Опять, как в годы золотые,\\r\\nТри стертых треп...   Александр Блок   \n",
       "...                                                  ...              ...   \n",
       "10734  Осень. Деревья в аллее — как воины.\\r\\nКаждое ...  Марина Цветаева   \n",
       "10735  Опустивши забрало,\\r\\nСо всем — в борьбе,\\r\\nУ...  Марина Цветаева   \n",
       "10736  Окно раскрыло створки —\\r\\nКак руки. Но скрест...  Марина Цветаева   \n",
       "10737  Уже богов — не те уже щедроты\\r\\nНа берегах — ...  Марина Цветаева   \n",
       "10738  Оползающая глыба —\\r\\nИз последних сил спасибо...  Марина Цветаева   \n",
       "\n",
       "                                              lemma_text  \\\n",
       "0      река раскинулась течет грустит лениво и моет б...   \n",
       "1      никогда не забуду он был или не был этот вечер...   \n",
       "2      мильоны — вас нас — тьмы и тьмы и тьмы попробу...   \n",
       "3      ты и во сне необычайна твоей одежды не коснусь...   \n",
       "4      опять как в годы золотые три стертых треплются...   \n",
       "...                                                  ...   \n",
       "10734  осень деревья в аллее — как воины каждое дерев...   \n",
       "10735  опустивши забрало со всем — в борьбе у меня уж...   \n",
       "10736  окно раскрыло створки — как руки но скрестив с...   \n",
       "10737  уже богов — не те уже щедроты на берегах — не ...   \n",
       "10738  оползающая глыба — из последних сил спасибо — ...   \n",
       "\n",
       "                                               stem_text  \n",
       "0      рек раскинул течет груст ленив моет берег скуд...  \n",
       "1      забуд вечер пожар зар сожж раздвинут бледн неб...  \n",
       "2      мильон — — тьмы тьмы тьмы попроб сраз нам скиф...  \n",
       "3      сне необычайн тво одежд косн дремл — дремот та...  \n",
       "4      год золот стерт треплют шле вязнут спиц распис...  \n",
       "...                                                  ...  \n",
       "10734  осен дерев алл — воин кажд дерев пахнет сво во...  \n",
       "10735  опуст забра всем — борьб — мал улыбок — себе… ...  \n",
       "10736  окн раскр створк — рук скрест сво — взира форт...  \n",
       "10737  бог — те щедрот берег — то рек широк закатн во...  \n",
       "10738  ополза глыб — последн сил спасиб — рвущ — умол...  \n",
       "\n",
       "[10739 rows x 4 columns]"
      ]
     },
     "execution_count": 26,
     "metadata": {},
     "output_type": "execute_result"
    }
   ],
   "source": [
    "df"
   ]
  },
  {
   "cell_type": "code",
   "execution_count": 27,
   "id": "1d781ea2-7309-4e5a-9440-c8fb42045614",
   "metadata": {},
   "outputs": [],
   "source": [
    "def remove_stop_words(text):\n",
    "    tokens = word_tokenize(text) \n",
    "    tokens = [token for token in tokens if token not in russian_stopwords and token != ' ']\n",
    "    return \" \".join(tokens)"
   ]
  },
  {
   "cell_type": "code",
   "execution_count": 29,
   "id": "9ee3b9dd-f697-4030-bbfa-d4fbbc148554",
   "metadata": {},
   "outputs": [
    {
     "data": {
      "application/vnd.jupyter.widget-view+json": {
       "model_id": "eaeec8c35c25415f91e8c0e151fe46a7",
       "version_major": 2,
       "version_minor": 0
      },
      "text/plain": [
       "  0%|          | 0/10739 [00:00<?, ?it/s]"
      ]
     },
     "metadata": {},
     "output_type": "display_data"
    }
   ],
   "source": [
    "sw_texts_list = []\n",
    "for text in tqdm(df['lemma_text']):\n",
    "    tokens = word_tokenize(text)    \n",
    "    tokens = [token for token in tokens if token not in russian_stopwords and token != ' ']\n",
    "    text = \" \".join(tokens)\n",
    "    sw_texts_list.append(text)\n",
    "\n",
    "df['text_sw'] = sw_texts_list"
   ]
  },
  {
   "cell_type": "code",
   "execution_count": 31,
   "id": "9330f101-a35c-49f0-b47b-5e4bd1d25829",
   "metadata": {},
   "outputs": [
    {
     "data": {
      "text/plain": [
       "'река раскинулась течет грустит лениво моет берега скудной глиной желтого обрыва степи грустят стога русь жена боли нам ясен долгий путь наш путь — стрелой татарской древней воли пронзил нам грудь наш путь — степной наш путь — тоске безбрежной — твоей тоске русь мглы — ночной зарубежной — боюсь пусть ночь домчимся озарим кострами степную даль степном дыму блеснет святое знамя ханской сабли сталь… вечный бой покой нам снится сквозь кровь пыль… летит летит степная кобылица мнет ковыль… конца мелькают версты кручи… останови идут идут испуганные тучи закат крови закат крови сердца кровь струится плачь сердце плачь… покоя степная кобылица несется вскачь друг степью полночь стали вернуться взглянуть назад непрядвой лебеди кричали кричат… пути — горючий белый камень рекой — поганая орда светлый стяг нашими полками взыграет земле склонившись головою говорит друг остри свой меч недаром биться татарвою святое дело мертвым лечь — первый воин последний долго родина больна помяни раннею обедней мила друга светлая жена ночь мамай залег ордою степи мосты темном поле тобою — знала доном темным зловещим средь ночных полей слышал твой голос сердцем вещим криках лебедей полуно ’ чи тучей возносилась княжеская рать вдали вдали стремя билась голосила мать чертя круги ночные птицы реяли вдали русью тихие зарницы князя стерегли орлий клёкот татарским станом угрожал бедой непрядва убралась туманом княжна фатой туманом непрядвой спящей прямо сошла одежде свет струящей спугнув коня серебром волны блеснула другу стальном мече освежила пыльную кольчугу моем плече наутро тучей черной двинулась орда щите твой лик нерукотворный светел навсегда вековою тоскою пригнулись земле ковыли туманной рекою кличешь издали ’ умчались пропали вести степных кобылиц табуны развязаны дикие страсти игом ущербной луны вековою тоскою волк ущербной луной знаю делать собою лететь тобой слушаю рокоты сечи трубные крики татар вижу русью далече широкий тихий пожар объятый тоскою могучей рыщу белом коне… встречаются вольные тучи мглистой ночной вышине вздымаются светлые мысли растерзанном сердце моем падают светлые мысли сожженные темным огнем… явись мое дивное диво светлым научи вздымается конская грива… ветром взывают мечи… полем куликовым взошла расточилась мгла словно облаком суровым грядущий день заволокла тишиною непробудной разливающейся мглой слышно грома битвы чудной видно молньи боевой узнаю начало высоких мятежных дней вражьим станом бывало плеск трубы лебедей сердце жить покоем недаром тучи собрались доспех тяжел боем твой час настал — молись поэт символист блок – ключевая фигура русской поэзии начала века протяжении всей жизни взгляды кардинально менялись неизменно отражалось творчестве революция г оказала большое влияние мировоззрение блока революционные убеждения поэта серьезно поколеблены ужасом кровавых событий переосмысливает свой взгляд историю судьбу россии результатом становится патриотический цикл родина который включает стихотворение поле куликовом г центральный образ произведения – куликовское поле ставшее символом героической победы объединенного русского войска ненавистной золотой ордой эта победа конечном счете привела окончательному избавлению татаро монгольского ига также способствовала объединению руси созданию единого московского государства широком смысле куликовская битва считается победой добра злом начале стихотворения блок дает общую картину героического прошлого своей страны русь ассоциируется поэта образом степной кобылицы которая прекращает свой стремительный бег постоянные набеги кочевников приводят тому русские воины проводят большую часть жизни седле оружием руках центральная фраза отражающая это состояние стала крылатой – покой нам снится блок описывает саму битву важна подготовка стремление воинов отдать жизнь свободу независимость своей отчизны второй части блок вводит пророческое замечание лирического героя – долго родина больна автор расширяет описание исторического события масштабного анализа всей русской истории победа куликовском поле свержение ига принесут покоя русским людям неоднократно россия находиться условиях смертельной опасности исходящей внешних внутренних врагов центральной части цикла появляется символ богородицы олицетворяющей собой главную защиту россии незримое присутствие придает воинам силы решающей битве священный свет лика нерукотворного побеждает тьму мрак наполняет сердца мужеством отвагой финале блок описывает современное состояние россии революционные настроения воспринимает огромной тревогой напоминают разгорающийся вдалеке широкий тихий пожар куликовским полем вновь собираются тучи вторжение темных сил должно состояться автор надеется священные заветы предков помогут русским людям одержать победу очередным врагом залогом победы считает обращение вере заканчивает произведение призывом молись'"
      ]
     },
     "execution_count": 31,
     "metadata": {},
     "output_type": "execute_result"
    }
   ],
   "source": [
    "df['text_sw'][0]"
   ]
  },
  {
   "cell_type": "code",
   "execution_count": 34,
   "id": "965c84cf-06ad-4b3d-bcc8-30f8a04cc5e0",
   "metadata": {},
   "outputs": [
    {
     "data": {
      "text/plain": [
       "'рек раскинул течет груст ленив моет берег скудн глин желт обрыв степ груст стог ру жен бол нам яс долг пут наш пут — стрел татарск древн вол пронз нам груд наш пут — степн наш пут — тоск безбрежн — тво тоск ру мглы — ночн зарубежн — бо пуст ноч домч озар костр степн дал степн дым блеснет свят знам ханск сабл сталь… вечн бо пок нам снит сквоз кров пыль… лет лет степн кобылиц мнет ковыль… конц мелька верст кручи… останов идут идут испуга туч закат кров закат кров сердц кров стру плач сердц плачь… поко степн кобылиц несет вскач друг степ полноч стал вернут взглянут назад непрядв лебед крича кричат… пут — горюч бел камен рек — поган орд светл стяг наш полк взыгра земл склон голов говор друг остр сво меч недар бит татарв свят дел мертв леч — перв воин последн долг родин больн помян ран обедн мил друг светл жен ноч мама залег орд степ мост темн пол тоб — знал дон темн зловещ сред ночн пол слыша тво голос сердц вещ крик лебед полун ’ чи туч вознос княжеск рат вдал вдал стрем бил голос мат черт круг ночн птиц рея вдал рус тих зарниц княз стерегл орл клекот татарск стан угрожа бед непрядв убра туман княжн фат туман непрядв спящ прям сошл одежд свет струя спугнув кон серебр волн блеснул друг стальн меч освеж пыльн кольчуг мо плеч наутр туч черн двинул орд щит тво лик нерукотворн светел навсегд веков тоск пригнул земл ков тума рек кличеш изда ’ умча пропа вест степн кобылиц табун развяза дик страст иг ущербн лун веков тоск волк ущербн лун зна дела соб летет тоб слуша рокот сеч трубн крик татар виж рус далеч широк тих пожар объят тоск могуч рыщ бел коне… встреча вольн туч мглист ночн вышин вздыма светл мысл растерза сердц мо пада светл мысл сожжен темн огнем… яв мо дивн див светл науч вздыма конск грива… ветр взыва мечи… пол куликов взошл расточ мгла словн облак суров грядущ ден заволокл тишин непробудн разлива мгло слышн гром битв чудн видн молн боев узна нача высок мятежн дне враж стан быва плеск труб лебед сердц жит поко недар туч собра доспех тяжел бо тво час наста — мол поэт символист блок – ключев фигур русск поэз нача век протяжен все жизн взгляд кардинальн меня неизмен отража творчеств революц г оказа больш влиян мировоззрен блок революцион убежден поэт серьезн поколебл ужас кровав событ переосмыслива сво взгляд истор судьб росс результат станов патриотическ цикл родин котор включа стихотворен пол куликов г центральн образ произведен – куликовск пол ставш символ героическ побед объединен русск войск ненавистн золот орд эт побед конечн счет привел окончательн избавлен татар монгольск иг такж способствова объединен рус создан един московск государств широк смысл куликовск битв счита побед добр злом начал стихотворен блок дает общ картин героическ прошл сво стран ру ассоциир поэт образ степн кобылиц котор прекраща сво стремительн бег постоя набег кочевник привод том русск воин провод больш част жизн седл оруж рук центральн фраз отража эт состоян стал крылат – пок нам снит блок описыва сам битв важн подготовк стремлен воин отда жизн свобод независим сво отчизн втор част блок ввод пророческ замечан лирическ геро – долг родин больн автор расширя описан историческ событ масштабн анализ все русск истор побед куликовск пол свержен иг принесут поко русск люд неоднократн росс наход услов смертельн опасн исходя внешн внутрен враг центральн част цикл появля символ богородиц олицетворя соб главн защит росс незрим присутств прида воин сил реша битв священ свет лик нерукотворн побежда тьму мрак наполня сердц мужеств отваг финал блок описыва современ состоян росс революцион настроен воспринима огромн тревог напомина разгора вдалек широк тих пожар куликовск пол внов собира туч вторжен темн сил должн состоя автор надеет священ завет предк помогут русск люд одержа побед очередн враг залог побед счита обращен вер заканчива произведен призыв мол'"
      ]
     },
     "execution_count": 34,
     "metadata": {},
     "output_type": "execute_result"
    }
   ],
   "source": [
    "df['stem_text'][0]"
   ]
  },
  {
   "cell_type": "markdown",
   "id": "a5845eab-1839-4e82-87db-5bc279a37a72",
   "metadata": {},
   "source": [
    "# Лемматизация"
   ]
  },
  {
   "cell_type": "code",
   "execution_count": 42,
   "id": "48b7eaa2-1143-4e9d-a93e-8152531afb7c",
   "metadata": {
    "tags": []
   },
   "outputs": [
    {
     "name": "stderr",
     "output_type": "stream",
     "text": [
      "Installing mystem to C:\\Users\\mailw/.local/bin\\mystem.exe from http://download.cdn.yandex.net/mystem/mystem-3.1-win-64bit.zip\n"
     ]
    },
    {
     "data": {
      "application/vnd.jupyter.widget-view+json": {
       "model_id": "32f077e6517047a5ad552a90e324b6b4",
       "version_major": 2,
       "version_minor": 0
      },
      "text/plain": [
       "  0%|          | 0/10739 [00:00<?, ?it/s]"
      ]
     },
     "metadata": {},
     "output_type": "display_data"
    }
   ],
   "source": [
    "lemm_texts_list = []\n",
    "m = Mystem()\n",
    "for text in tqdm(df['text_sw']):\n",
    "    #print(text)\n",
    "    try:\n",
    "        text_lem = m.lemmatize(text)\n",
    "        tokens = [token for token in text_lem if token != ' ' and token not in russian_stopwords]\n",
    "        text = \" \".join(tokens)\n",
    "        lemm_texts_list.append(text)\n",
    "    except Exception as e:\n",
    "        print(e)\n",
    "    \n",
    "df['text_lemm'] = lemm_texts_list"
   ]
  },
  {
   "cell_type": "code",
   "execution_count": 43,
   "id": "0899e68e-0a5c-4b96-8ab7-e89f5a5a5f41",
   "metadata": {},
   "outputs": [
    {
     "data": {
      "text/html": [
       "<div>\n",
       "<style scoped>\n",
       "    .dataframe tbody tr th:only-of-type {\n",
       "        vertical-align: middle;\n",
       "    }\n",
       "\n",
       "    .dataframe tbody tr th {\n",
       "        vertical-align: top;\n",
       "    }\n",
       "\n",
       "    .dataframe thead th {\n",
       "        text-align: right;\n",
       "    }\n",
       "</style>\n",
       "<table border=\"1\" class=\"dataframe\">\n",
       "  <thead>\n",
       "    <tr style=\"text-align: right;\">\n",
       "      <th></th>\n",
       "      <th>Text</th>\n",
       "      <th>Author</th>\n",
       "      <th>lemma_text</th>\n",
       "      <th>stem_text</th>\n",
       "      <th>text_sw</th>\n",
       "      <th>text_lemm</th>\n",
       "    </tr>\n",
       "  </thead>\n",
       "  <tbody>\n",
       "    <tr>\n",
       "      <th>0</th>\n",
       "      <td>Река раскинулась. Течет, грустит лениво\\r\\nИ м...</td>\n",
       "      <td>Александр Блок</td>\n",
       "      <td>река раскинулась течет грустит лениво и моет б...</td>\n",
       "      <td>рек раскинул течет груст ленив моет берег скуд...</td>\n",
       "      <td>река раскинулась течет грустит лениво моет бер...</td>\n",
       "      <td>река раскидываться течь грустить лениво мыть б...</td>\n",
       "    </tr>\n",
       "    <tr>\n",
       "      <th>1</th>\n",
       "      <td>Никогда не забуду (он был, или не был,\\r\\nЭтот...</td>\n",
       "      <td>Александр Блок</td>\n",
       "      <td>никогда не забуду он был или не был этот вечер...</td>\n",
       "      <td>забуд вечер пожар зар сожж раздвинут бледн неб...</td>\n",
       "      <td>забуду вечер пожаром зари сожжено раздвинуто б...</td>\n",
       "      <td>забывать вечер пожар заря сжигать раздвигать б...</td>\n",
       "    </tr>\n",
       "    <tr>\n",
       "      <th>2</th>\n",
       "      <td>Мильоны — вас. Нас — тьмы, и тьмы, и тьмы.\\r\\n...</td>\n",
       "      <td>Александр Блок</td>\n",
       "      <td>мильоны — вас нас — тьмы и тьмы и тьмы попробу...</td>\n",
       "      <td>мильон — — тьмы тьмы тьмы попроб сраз нам скиф...</td>\n",
       "      <td>мильоны — — тьмы тьмы тьмы попробуйте сразитес...</td>\n",
       "      <td>мильон  — —  тьма тьма тьма попробовать сражат...</td>\n",
       "    </tr>\n",
       "    <tr>\n",
       "      <th>3</th>\n",
       "      <td>Ты и во сне необычайна.\\r\\nТвоей одежды не кос...</td>\n",
       "      <td>Александр Блок</td>\n",
       "      <td>ты и во сне необычайна твоей одежды не коснусь...</td>\n",
       "      <td>сне необычайн тво одежд косн дремл — дремот та...</td>\n",
       "      <td>сне необычайна твоей одежды коснусь дремлю — д...</td>\n",
       "      <td>сон необычайный твой одежда касаться дремать  ...</td>\n",
       "    </tr>\n",
       "    <tr>\n",
       "      <th>4</th>\n",
       "      <td>Опять, как в годы золотые,\\r\\nТри стертых треп...</td>\n",
       "      <td>Александр Блок</td>\n",
       "      <td>опять как в годы золотые три стертых треплются...</td>\n",
       "      <td>год золот стерт треплют шле вязнут спиц распис...</td>\n",
       "      <td>годы золотые стертых треплются шлеи вязнут спи...</td>\n",
       "      <td>год золотой стереть трепаться шлея вязнуть спи...</td>\n",
       "    </tr>\n",
       "    <tr>\n",
       "      <th>...</th>\n",
       "      <td>...</td>\n",
       "      <td>...</td>\n",
       "      <td>...</td>\n",
       "      <td>...</td>\n",
       "      <td>...</td>\n",
       "      <td>...</td>\n",
       "    </tr>\n",
       "    <tr>\n",
       "      <th>10734</th>\n",
       "      <td>Осень. Деревья в аллее — как воины.\\r\\nКаждое ...</td>\n",
       "      <td>Марина Цветаева</td>\n",
       "      <td>осень деревья в аллее — как воины каждое дерев...</td>\n",
       "      <td>осен дерев алл — воин кажд дерев пахнет сво во...</td>\n",
       "      <td>осень деревья аллее — воины каждое дерево пахн...</td>\n",
       "      <td>осень дерево аллея  —  воин каждый дерево пахн...</td>\n",
       "    </tr>\n",
       "    <tr>\n",
       "      <th>10735</th>\n",
       "      <td>Опустивши забрало,\\r\\nСо всем — в борьбе,\\r\\nУ...</td>\n",
       "      <td>Марина Цветаева</td>\n",
       "      <td>опустивши забрало со всем — в борьбе у меня уж...</td>\n",
       "      <td>опуст забра всем — борьб — мал улыбок — себе… ...</td>\n",
       "      <td>опустивши забрало всем — борьбе — мало улыбок ...</td>\n",
       "      <td>опускать забрало весь  —  борьба  —  мало улыб...</td>\n",
       "    </tr>\n",
       "    <tr>\n",
       "      <th>10736</th>\n",
       "      <td>Окно раскрыло створки —\\r\\nКак руки. Но скрест...</td>\n",
       "      <td>Марина Цветаева</td>\n",
       "      <td>окно раскрыло створки — как руки но скрестив с...</td>\n",
       "      <td>окн раскр створк — рук скрест сво — взира форт...</td>\n",
       "      <td>окно раскрыло створки — руки скрестив свои — в...</td>\n",
       "      <td>окно раскрывать створка  —  рука скрещивать св...</td>\n",
       "    </tr>\n",
       "    <tr>\n",
       "      <th>10737</th>\n",
       "      <td>Уже богов — не те уже щедроты\\r\\nНа берегах — ...</td>\n",
       "      <td>Марина Цветаева</td>\n",
       "      <td>уже богов — не те уже щедроты на берегах — не ...</td>\n",
       "      <td>бог — те щедрот берег — то рек широк закатн во...</td>\n",
       "      <td>богов — те щедроты берегах — той реки широкие ...</td>\n",
       "      <td>бог  —  щедрота берег  —  река широкий закатны...</td>\n",
       "    </tr>\n",
       "    <tr>\n",
       "      <th>10738</th>\n",
       "      <td>Оползающая глыба —\\r\\nИз последних сил спасибо...</td>\n",
       "      <td>Марина Цветаева</td>\n",
       "      <td>оползающая глыба — из последних сил спасибо — ...</td>\n",
       "      <td>ополза глыб — последн сил спасиб — рвущ — умол...</td>\n",
       "      <td>оползающая глыба — последних сил спасибо — рву...</td>\n",
       "      <td>оползать глыба  —  последний сила спасибо  —  ...</td>\n",
       "    </tr>\n",
       "  </tbody>\n",
       "</table>\n",
       "<p>10739 rows × 6 columns</p>\n",
       "</div>"
      ],
      "text/plain": [
       "                                                    Text           Author  \\\n",
       "0      Река раскинулась. Течет, грустит лениво\\r\\nИ м...   Александр Блок   \n",
       "1      Никогда не забуду (он был, или не был,\\r\\nЭтот...   Александр Блок   \n",
       "2      Мильоны — вас. Нас — тьмы, и тьмы, и тьмы.\\r\\n...   Александр Блок   \n",
       "3      Ты и во сне необычайна.\\r\\nТвоей одежды не кос...   Александр Блок   \n",
       "4      Опять, как в годы золотые,\\r\\nТри стертых треп...   Александр Блок   \n",
       "...                                                  ...              ...   \n",
       "10734  Осень. Деревья в аллее — как воины.\\r\\nКаждое ...  Марина Цветаева   \n",
       "10735  Опустивши забрало,\\r\\nСо всем — в борьбе,\\r\\nУ...  Марина Цветаева   \n",
       "10736  Окно раскрыло створки —\\r\\nКак руки. Но скрест...  Марина Цветаева   \n",
       "10737  Уже богов — не те уже щедроты\\r\\nНа берегах — ...  Марина Цветаева   \n",
       "10738  Оползающая глыба —\\r\\nИз последних сил спасибо...  Марина Цветаева   \n",
       "\n",
       "                                              lemma_text  \\\n",
       "0      река раскинулась течет грустит лениво и моет б...   \n",
       "1      никогда не забуду он был или не был этот вечер...   \n",
       "2      мильоны — вас нас — тьмы и тьмы и тьмы попробу...   \n",
       "3      ты и во сне необычайна твоей одежды не коснусь...   \n",
       "4      опять как в годы золотые три стертых треплются...   \n",
       "...                                                  ...   \n",
       "10734  осень деревья в аллее — как воины каждое дерев...   \n",
       "10735  опустивши забрало со всем — в борьбе у меня уж...   \n",
       "10736  окно раскрыло створки — как руки но скрестив с...   \n",
       "10737  уже богов — не те уже щедроты на берегах — не ...   \n",
       "10738  оползающая глыба — из последних сил спасибо — ...   \n",
       "\n",
       "                                               stem_text  \\\n",
       "0      рек раскинул течет груст ленив моет берег скуд...   \n",
       "1      забуд вечер пожар зар сожж раздвинут бледн неб...   \n",
       "2      мильон — — тьмы тьмы тьмы попроб сраз нам скиф...   \n",
       "3      сне необычайн тво одежд косн дремл — дремот та...   \n",
       "4      год золот стерт треплют шле вязнут спиц распис...   \n",
       "...                                                  ...   \n",
       "10734  осен дерев алл — воин кажд дерев пахнет сво во...   \n",
       "10735  опуст забра всем — борьб — мал улыбок — себе… ...   \n",
       "10736  окн раскр створк — рук скрест сво — взира форт...   \n",
       "10737  бог — те щедрот берег — то рек широк закатн во...   \n",
       "10738  ополза глыб — последн сил спасиб — рвущ — умол...   \n",
       "\n",
       "                                                 text_sw  \\\n",
       "0      река раскинулась течет грустит лениво моет бер...   \n",
       "1      забуду вечер пожаром зари сожжено раздвинуто б...   \n",
       "2      мильоны — — тьмы тьмы тьмы попробуйте сразитес...   \n",
       "3      сне необычайна твоей одежды коснусь дремлю — д...   \n",
       "4      годы золотые стертых треплются шлеи вязнут спи...   \n",
       "...                                                  ...   \n",
       "10734  осень деревья аллее — воины каждое дерево пахн...   \n",
       "10735  опустивши забрало всем — борьбе — мало улыбок ...   \n",
       "10736  окно раскрыло створки — руки скрестив свои — в...   \n",
       "10737  богов — те щедроты берегах — той реки широкие ...   \n",
       "10738  оползающая глыба — последних сил спасибо — рву...   \n",
       "\n",
       "                                               text_lemm  \n",
       "0      река раскидываться течь грустить лениво мыть б...  \n",
       "1      забывать вечер пожар заря сжигать раздвигать б...  \n",
       "2      мильон  — —  тьма тьма тьма попробовать сражат...  \n",
       "3      сон необычайный твой одежда касаться дремать  ...  \n",
       "4      год золотой стереть трепаться шлея вязнуть спи...  \n",
       "...                                                  ...  \n",
       "10734  осень дерево аллея  —  воин каждый дерево пахн...  \n",
       "10735  опускать забрало весь  —  борьба  —  мало улыб...  \n",
       "10736  окно раскрывать створка  —  рука скрещивать св...  \n",
       "10737  бог  —  щедрота берег  —  река широкий закатны...  \n",
       "10738  оползать глыба  —  последний сила спасибо  —  ...  \n",
       "\n",
       "[10739 rows x 6 columns]"
      ]
     },
     "execution_count": 43,
     "metadata": {},
     "output_type": "execute_result"
    }
   ],
   "source": [
    "df"
   ]
  },
  {
   "cell_type": "code",
   "execution_count": 45,
   "id": "23c539e6-cdf3-4447-aff0-68a5c730597b",
   "metadata": {},
   "outputs": [],
   "source": [
    "df.to_csv('lemma.csv', index=False)"
   ]
  },
  {
   "cell_type": "markdown",
   "id": "6a98e520-bfc0-42b0-b6b1-331532f0ffd1",
   "metadata": {},
   "source": [
    "# Обучение и подготовка данных"
   ]
  },
  {
   "cell_type": "code",
   "execution_count": 46,
   "id": "7d86879a-42cd-4448-ad8f-b11ad456ef4b",
   "metadata": {},
   "outputs": [],
   "source": [
    "X = df['text_sw']\n",
    "y = df['Author']"
   ]
  },
  {
   "cell_type": "code",
   "execution_count": 63,
   "id": "cce10f20-afee-4d75-93df-78ec65186982",
   "metadata": {},
   "outputs": [],
   "source": [
    "from sklearn.model_selection import train_test_split\n",
    "X_train, X_test, y_train, y_test = train_test_split(X, y, test_size=.05, random_state=42)"
   ]
  },
  {
   "cell_type": "markdown",
   "id": "f3f41c8c-4fe0-46d3-a7f0-74c59ae134c0",
   "metadata": {},
   "source": [
    "# Naive Bayes Classifier"
   ]
  },
  {
   "cell_type": "code",
   "execution_count": 64,
   "id": "925f1cd4-ad61-4ffd-a9e6-e071c713dde9",
   "metadata": {},
   "outputs": [],
   "source": [
    "from sklearn.naive_bayes import MultinomialNB\n",
    "from sklearn.pipeline import Pipeline\n",
    "from sklearn.feature_extraction.text import TfidfTransformer\n",
    "from sklearn.feature_extraction.text import CountVectorizer"
   ]
  },
  {
   "cell_type": "code",
   "execution_count": 65,
   "id": "28abc883-0f46-4215-8241-bb4783a12029",
   "metadata": {},
   "outputs": [],
   "source": [
    "nb = Pipeline([('vect', CountVectorizer()),\n",
    "               ('tfidf', TfidfTransformer()),\n",
    "               ('clf', MultinomialNB()),\n",
    "              ])"
   ]
  },
  {
   "cell_type": "code",
   "execution_count": 66,
   "id": "9866b7c8-7035-4089-8fad-7812dc31410e",
   "metadata": {},
   "outputs": [
    {
     "data": {
      "text/plain": [
       "Pipeline(steps=[('vect', CountVectorizer()), ('tfidf', TfidfTransformer()),\n",
       "                ('clf', MultinomialNB())])"
      ]
     },
     "execution_count": 66,
     "metadata": {},
     "output_type": "execute_result"
    }
   ],
   "source": [
    "nb.fit(X_train, y_train)"
   ]
  },
  {
   "cell_type": "code",
   "execution_count": 67,
   "id": "512d83fd-91d9-4058-8562-adcf364ca45e",
   "metadata": {},
   "outputs": [],
   "source": [
    "from sklearn.metrics import classification_report\n",
    "y_pred = nb.predict(X_test)"
   ]
  },
  {
   "cell_type": "code",
   "execution_count": 68,
   "id": "abdefb46-45fe-4b04-9571-13ac34021547",
   "metadata": {},
   "outputs": [
    {
     "name": "stdout",
     "output_type": "stream",
     "text": [
      "оползающая глыба — последних сил спасибо — рвущееся — умолчу — дуба юному плечу издыхающая рыба последних сил спасибо близящемуся — прости — силящемуся спасти валу первому прилива иссыхающая нива — божескому нелюдску бури чудному персту добры — час спасенья — силы первые — последним пока рот пересох — спаси — боги спаси — бог Марина Цветаева Марина Цветаева\n"
     ]
    }
   ],
   "source": [
    "print(X_test.values[0], y_test.values[0], y_pred[0])"
   ]
  },
  {
   "cell_type": "code",
   "execution_count": 69,
   "id": "1ceb3f20-6df2-4888-8ce7-1eeb608b64a5",
   "metadata": {},
   "outputs": [
    {
     "data": {
      "text/plain": [
       "array(['Александр Блок', 'Александр Пушкин', 'Анна Ахматова',\n",
       "       'Афанасий Фет', 'Валерий Брюсов', 'Владимир Маяковский',\n",
       "       'Игорь Северянин', 'Константин Бальмонт', 'Марина Цветаева'],\n",
       "      dtype=object)"
      ]
     },
     "execution_count": 69,
     "metadata": {},
     "output_type": "execute_result"
    }
   ],
   "source": [
    "my_tags = df['Author'].unique()\n",
    "my_tags"
   ]
  },
  {
   "cell_type": "code",
   "execution_count": 70,
   "id": "d60fae96-8f5e-4237-9759-6ba4e57d55ee",
   "metadata": {},
   "outputs": [
    {
     "name": "stdout",
     "output_type": "stream",
     "text": [
      "accuracy 0.49162011173184356\n",
      "                     precision    recall  f1-score   support\n",
      "\n",
      "     Александр Блок       0.67      0.22      0.33        64\n",
      "   Александр Пушкин       0.82      0.20      0.32        45\n",
      "      Анна Ахматова       1.00      0.06      0.11        35\n",
      "       Афанасий Фет       0.00      0.00      0.00        43\n",
      "     Валерий Брюсов       0.31      1.00      0.47        94\n",
      "Владимир Маяковский       1.00      0.89      0.94        66\n",
      "    Игорь Северянин       0.55      0.84      0.66        74\n",
      "Константин Бальмонт       1.00      0.04      0.08        47\n",
      "    Марина Цветаева       0.92      0.32      0.47        69\n",
      "\n",
      "           accuracy                           0.49       537\n",
      "          macro avg       0.70      0.40      0.38       537\n",
      "       weighted avg       0.67      0.49      0.43       537\n",
      "\n"
     ]
    },
    {
     "name": "stderr",
     "output_type": "stream",
     "text": [
      "C:\\ProgramData\\Anaconda3\\lib\\site-packages\\sklearn\\metrics\\_classification.py:1248: UndefinedMetricWarning: Precision and F-score are ill-defined and being set to 0.0 in labels with no predicted samples. Use `zero_division` parameter to control this behavior.\n",
      "  _warn_prf(average, modifier, msg_start, len(result))\n",
      "C:\\ProgramData\\Anaconda3\\lib\\site-packages\\sklearn\\metrics\\_classification.py:1248: UndefinedMetricWarning: Precision and F-score are ill-defined and being set to 0.0 in labels with no predicted samples. Use `zero_division` parameter to control this behavior.\n",
      "  _warn_prf(average, modifier, msg_start, len(result))\n",
      "C:\\ProgramData\\Anaconda3\\lib\\site-packages\\sklearn\\metrics\\_classification.py:1248: UndefinedMetricWarning: Precision and F-score are ill-defined and being set to 0.0 in labels with no predicted samples. Use `zero_division` parameter to control this behavior.\n",
      "  _warn_prf(average, modifier, msg_start, len(result))\n"
     ]
    }
   ],
   "source": [
    "from sklearn.metrics import accuracy_score\n",
    "\n",
    "print('accuracy %s' % accuracy_score(y_pred, y_test))\n",
    "print(classification_report(y_test, y_pred, target_names=my_tags))"
   ]
  },
  {
   "cell_type": "markdown",
   "id": "c5ca4fe9-2306-432d-b0e0-2d6e6c5d8f69",
   "metadata": {},
   "source": [
    "# Linear Support Vector Machine"
   ]
  },
  {
   "cell_type": "code",
   "execution_count": 71,
   "id": "32e09673-50ff-4da1-adaf-e0514c394bdc",
   "metadata": {},
   "outputs": [],
   "source": [
    "from sklearn.linear_model import SGDClassifier\n",
    "\n",
    "sgd = Pipeline([('vect', CountVectorizer()),\n",
    "                ('tfidf', TfidfTransformer()),\n",
    "                ('clf', SGDClassifier(loss='hinge', penalty='l2',alpha=1e-3, random_state=42, max_iter=5, tol=None)),\n",
    "               ])"
   ]
  },
  {
   "cell_type": "code",
   "execution_count": 72,
   "id": "9bac5b6a-19b6-48c0-8c9e-6a982142b1f4",
   "metadata": {},
   "outputs": [
    {
     "name": "stdout",
     "output_type": "stream",
     "text": [
      "Wall time: 2.5 s\n"
     ]
    },
    {
     "data": {
      "text/plain": [
       "Pipeline(steps=[('vect', CountVectorizer()), ('tfidf', TfidfTransformer()),\n",
       "                ('clf',\n",
       "                 SGDClassifier(alpha=0.001, max_iter=5, random_state=42,\n",
       "                               tol=None))])"
      ]
     },
     "execution_count": 72,
     "metadata": {},
     "output_type": "execute_result"
    }
   ],
   "source": [
    "%%time\n",
    "sgd.fit(X_train, y_train)"
   ]
  },
  {
   "cell_type": "code",
   "execution_count": 73,
   "id": "a495266c-04d0-4d80-aa19-516c400d2012",
   "metadata": {},
   "outputs": [],
   "source": [
    "y_pred = sgd.predict(X_test)"
   ]
  },
  {
   "cell_type": "code",
   "execution_count": 74,
   "id": "f714a04f-fc94-45da-bbb9-b3b1e2d16887",
   "metadata": {},
   "outputs": [
    {
     "name": "stdout",
     "output_type": "stream",
     "text": [
      "accuracy 0.7188081936685289\n",
      "                     precision    recall  f1-score   support\n",
      "\n",
      "     Александр Блок       0.71      0.50      0.59        64\n",
      "   Александр Пушкин       0.80      0.82      0.81        45\n",
      "      Анна Ахматова       0.75      0.43      0.55        35\n",
      "       Афанасий Фет       0.83      0.44      0.58        43\n",
      "     Валерий Брюсов       0.72      0.83      0.77        94\n",
      "Владимир Маяковский       0.76      0.98      0.86        66\n",
      "    Игорь Северянин       0.62      0.81      0.71        74\n",
      "Константин Бальмонт       0.71      0.74      0.73        47\n",
      "    Марина Цветаева       0.70      0.65      0.68        69\n",
      "\n",
      "           accuracy                           0.72       537\n",
      "          macro avg       0.73      0.69      0.70       537\n",
      "       weighted avg       0.73      0.72      0.71       537\n",
      "\n"
     ]
    }
   ],
   "source": [
    "print('accuracy %s' % accuracy_score(y_pred, y_test))\n",
    "print(classification_report(y_test, y_pred,target_names=my_tags))"
   ]
  },
  {
   "cell_type": "markdown",
   "id": "25c2973b-2a8d-46a4-8051-4b15cd9140ad",
   "metadata": {},
   "source": [
    "# Logistic Regression"
   ]
  },
  {
   "cell_type": "code",
   "execution_count": 75,
   "id": "ce9e29cb-7ce3-43d4-a82a-d526f2af7f19",
   "metadata": {},
   "outputs": [],
   "source": [
    "from sklearn.linear_model import LogisticRegression\n",
    "\n",
    "logreg = Pipeline([('vect', CountVectorizer()),\n",
    "                ('tfidf', TfidfTransformer()),\n",
    "                ('clf', LogisticRegression(n_jobs=1, C=1e5)),\n",
    "               ])"
   ]
  },
  {
   "cell_type": "code",
   "execution_count": 76,
   "id": "065641fd-4b81-4a92-a4b8-e8453b53ee4c",
   "metadata": {},
   "outputs": [
    {
     "name": "stdout",
     "output_type": "stream",
     "text": [
      "Wall time: 37.1 s\n"
     ]
    },
    {
     "name": "stderr",
     "output_type": "stream",
     "text": [
      "C:\\ProgramData\\Anaconda3\\lib\\site-packages\\sklearn\\linear_model\\_logistic.py:763: ConvergenceWarning: lbfgs failed to converge (status=1):\n",
      "STOP: TOTAL NO. of ITERATIONS REACHED LIMIT.\n",
      "\n",
      "Increase the number of iterations (max_iter) or scale the data as shown in:\n",
      "    https://scikit-learn.org/stable/modules/preprocessing.html\n",
      "Please also refer to the documentation for alternative solver options:\n",
      "    https://scikit-learn.org/stable/modules/linear_model.html#logistic-regression\n",
      "  n_iter_i = _check_optimize_result(\n"
     ]
    },
    {
     "data": {
      "text/plain": [
       "Pipeline(steps=[('vect', CountVectorizer()), ('tfidf', TfidfTransformer()),\n",
       "                ('clf', LogisticRegression(C=100000.0, n_jobs=1))])"
      ]
     },
     "execution_count": 76,
     "metadata": {},
     "output_type": "execute_result"
    }
   ],
   "source": [
    "%%time\n",
    "logreg.fit(X_train, y_train)"
   ]
  },
  {
   "cell_type": "code",
   "execution_count": 77,
   "id": "f199e348-c08d-467d-8dc1-1971c2d087a8",
   "metadata": {},
   "outputs": [],
   "source": [
    "y_pred = logreg.predict(X_test)"
   ]
  },
  {
   "cell_type": "code",
   "execution_count": 78,
   "id": "dbed87b8-4d65-4e05-ae00-76f613d393a3",
   "metadata": {},
   "outputs": [
    {
     "name": "stdout",
     "output_type": "stream",
     "text": [
      "accuracy 0.7337057728119181\n",
      "                     precision    recall  f1-score   support\n",
      "\n",
      "     Александр Блок       0.66      0.64      0.65        64\n",
      "   Александр Пушкин       0.79      0.76      0.77        45\n",
      "      Анна Ахматова       0.78      0.60      0.68        35\n",
      "       Афанасий Фет       0.69      0.51      0.59        43\n",
      "     Валерий Брюсов       0.74      0.85      0.79        94\n",
      "Владимир Маяковский       0.90      0.91      0.90        66\n",
      "    Игорь Северянин       0.65      0.76      0.70        74\n",
      "Константин Бальмонт       0.72      0.77      0.74        47\n",
      "    Марина Цветаева       0.71      0.64      0.67        69\n",
      "\n",
      "           accuracy                           0.73       537\n",
      "          macro avg       0.74      0.71      0.72       537\n",
      "       weighted avg       0.73      0.73      0.73       537\n",
      "\n"
     ]
    }
   ],
   "source": [
    "print('accuracy %s' % accuracy_score(y_pred, y_test))\n",
    "print(classification_report(y_test, y_pred,target_names=my_tags))"
   ]
  },
  {
   "cell_type": "markdown",
   "id": "bf68e371-341f-4f0a-bc50-004114b5354f",
   "metadata": {},
   "source": [
    "# Проверка на данных "
   ]
  },
  {
   "cell_type": "code",
   "execution_count": 106,
   "id": "da45da48-ad73-49b3-9199-4f63e7321177",
   "metadata": {},
   "outputs": [
    {
     "data": {
      "text/plain": [
       "array(['Александр Пушкин'], dtype=object)"
      ]
     },
     "execution_count": 106,
     "metadata": {},
     "output_type": "execute_result"
    }
   ],
   "source": [
    "example_text = '''Поднялся шум; свирелью полевой\n",
    "Оглашено мое уединенье,\n",
    "И с образом любовницы драгой\n",
    "Последнее слетело сновиденье.\n",
    "С небес уже скатилась ночи тень.\n",
    "Взошла заря, блистает бледный день —\n",
    "А вкруг меня глухое запустенье...\n",
    "Уж нет ее... я был у берегов,\n",
    "Где милая ходила в вечер ясный;\n",
    "На берегу, на зелени лугов\n",
    "Я не нашел чуть видимых следов,\n",
    "Оставленных ногой ее прекрасной.\n",
    "Задумчиво бродя в глуши лесов,\n",
    "Произносил я имя несравненной;\n",
    "Я звал ее — и глас уединенный\n",
    "Пустых долин позвал ее в дали.\n",
    "'''\n",
    "\n",
    "# Это Пушкин\n",
    "\n",
    "example_text = remove_spaces(remove_numbers(remove_punctuation(example_text.lower())))\n",
    "example_text = remove_stop_words(example_text)\n",
    "\n",
    "example_text\n",
    "\n",
    "mystem = Mystem()\n",
    "def lemmatize_text(text):\n",
    "    tokens = mystem.lemmatize(text.lower())\n",
    "    tokens = [token for token in tokens if token not in russian_stopwords and token != \" \"]\n",
    "    text = \" \".join(tokens)\n",
    "    return text\n",
    "\n",
    "\n",
    "example_text = lemmatize_text(example_text)\n",
    "\n",
    "example_text\n",
    "\n",
    "logreg.predict([example_text])"
   ]
  },
  {
   "cell_type": "markdown",
   "id": "c4f47d1c-02dd-4a53-8327-d1a50ce565af",
   "metadata": {},
   "source": [
    "# Save model"
   ]
  },
  {
   "cell_type": "code",
   "execution_count": 111,
   "id": "4e13acc1-d442-4085-b109-9d89a012cb96",
   "metadata": {},
   "outputs": [],
   "source": [
    "import pickle\n",
    "pickle.dump(logreg, open('logistic.sav', 'wb'))\n",
    "pickle.dump(sgd, open('svm.sav', 'wb'))"
   ]
  },
  {
   "cell_type": "code",
   "execution_count": 113,
   "id": "c0940b85-acc6-4f0b-a8b5-c715b5b07c50",
   "metadata": {},
   "outputs": [
    {
     "name": "stdout",
     "output_type": "stream",
     "text": [
      "['Александр Пушкин'] [[2.22490942e-01 7.73269029e-01 8.47181648e-05 1.83585826e-04\n",
      "  2.09389800e-03 1.04709564e-07 1.09076209e-06 4.63162677e-05\n",
      "  1.83031602e-03]]\n"
     ]
    }
   ],
   "source": [
    "print(logreg.predict([example_text]),\n",
    "logreg.predict_proba([example_text]))"
   ]
  },
  {
   "cell_type": "code",
   "execution_count": null,
   "id": "02ce9bad-1220-48d3-9d95-37a248477d64",
   "metadata": {},
   "outputs": [],
   "source": []
  }
 ],
 "metadata": {
  "kernelspec": {
   "display_name": "Python 3 (ipykernel)",
   "language": "python",
   "name": "python3"
  },
  "language_info": {
   "codemirror_mode": {
    "name": "ipython",
    "version": 3
   },
   "file_extension": ".py",
   "mimetype": "text/x-python",
   "name": "python",
   "nbconvert_exporter": "python",
   "pygments_lexer": "ipython3",
   "version": "3.9.7"
  }
 },
 "nbformat": 4,
 "nbformat_minor": 5
}
